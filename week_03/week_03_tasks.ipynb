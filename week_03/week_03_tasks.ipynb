{
 "cells": [
  {
   "cell_type": "markdown",
   "metadata": {},
   "source": [
    "<center><h1>BUSS6002 - Data Science in Business</h1></center>\n",
    "\n",
    "# Tutorial 3 Tasks\n",
    "\n",
    "Use ``DirectMarketing.csv``\n",
    "\n",
    "## Task 1 - Querying and Counting\n",
    "\n",
    "#### What is the relationship between customer spending and number of catalogs?\n",
    "\n",
    "*Following on from last week, we take another look at this relationship from another angle*\n",
    "\n",
    "1. Print the count of each unique value in the Catalogs variable\n",
    "2. Print the average customer spending for each unique value of Catalogs received\n",
    "3. Describe the relationship that you observe between Catalogs received and Amount Spent\n",
    "4. **Optional Extension**: Can you think of a statistical test that can be used to determine if there is a difference in the amount spent between the different catalog groups? Try to implement this. Common tests can be found in the scipy package https://docs.scipy.org/doc/scipy/reference/stats.html\n",
    "\n",
    "\n",
    "## Task 2 - Querying and Visualisation\n",
    "\n",
    "#### 2.1 What is the distribution of Customer Salary?\n",
    "\n",
    "Create a histogram of all customer's salary.\n",
    "\n",
    "<img src=\"img/salary_dist.png\" width=400>\n",
    "\n",
    "#### 2.2 What is the distribution of Salary for High Spending Customers?\n",
    "\n",
    "1. Create a histogram of customer salary for customers that spent more than $500$ dollars.\n",
    "2. Save this figure as a PDF\n",
    "\n",
    "<img src=\"img/big_spenders.png\" width=400>\n",
    "\n",
    "#### 2.3 Is the amount spent different for male and female customers?\n",
    "\n",
    "1. Create a single plot with two histograms, one of amount spent for male customers, the other for female customers\n",
    "2. Calculate and report the mean and variance of amount spent for both customer segments \n",
    "\n",
    "<img src=\"img/male_female.png\" width=400>"
   ]
  },
  {
   "cell_type": "code",
   "execution_count": null,
   "metadata": {},
   "outputs": [],
   "source": []
  }
 ],
 "metadata": {
  "celltoolbar": "Raw Cell Format",
  "kernelspec": {
   "display_name": "Python 3",
   "language": "python",
   "name": "python3"
  },
  "language_info": {
   "codemirror_mode": {
    "name": "ipython",
    "version": 3
   },
   "file_extension": ".py",
   "mimetype": "text/x-python",
   "name": "python",
   "nbconvert_exporter": "python",
   "pygments_lexer": "ipython3",
   "version": "3.6.8"
  }
 },
 "nbformat": 4,
 "nbformat_minor": 2
}
