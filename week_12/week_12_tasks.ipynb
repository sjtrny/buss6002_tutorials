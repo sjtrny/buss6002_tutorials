{
 "cells": [
  {
   "cell_type": "markdown",
   "metadata": {},
   "source": [
    "<center><h1>BUSS6002 - Data Science in Business</h1></center>\n",
    "\n",
    "# Tutorial 12 Tasks\n",
    "\n",
    "## Task 1: Logistic Regression via MapReduce\n",
    "\n",
    "*Use the airline.csv dataset*\n",
    "\n",
    "Suppose you are asked to build a model to predict the probability of a delayed flight. You suspect that the distance of flights affects the probability of a delayed flight. You are told that a delayed flight as an arrival delay of $\\geq 20$ minutes.\n",
    "\n",
    "You are given data from all US airline flights over a decade. This dataset is hundreds of gigabytes (GB) and would be difficult to produce a logistic regression in a single shot with all the data.\n",
    "\n",
    "So you must take a different approach: divide and conquer. You need to break the data into three chunks and compute the logistic regression coefficients for each chunk in the map step. Then combining the coefficient estimates in the reduce step by taking the average.\n",
    "\n",
    "The data is available in the airline_small.csv which contains the variables ArrDelay (flight arrival delay) and Distance (total flight distance). You might need to specify the file encoding as \"ISO-8859-1\" when using read_csv. i.e.\n",
    "\n",
    "``airline = pd.read_csv('airline_small.csv', encoding='ISO-8859-1')``\n",
    "\n",
    "1. Build a Mapping function that calculates logistic regression coefficients for a chunk of data\n",
    "2. Build a Reduce function that calculates the mean of the logistic regression coefficients from 1.\n",
    "3. Implement MapReduce using `mockr.run_pandas_job()`\n",
    "2. Compare your result with that of a normal Logistic Regression.\n",
    "\n",
    "## Task 2:  Follow Up Questions\n",
    "\n",
    "1. Is your result the same as a normal Logistic Regression? Why or why not?\n",
    "2. What happens if you increase or decrease the number of chunks?"
   ]
  },
  {
   "cell_type": "code",
   "execution_count": null,
   "metadata": {
    "collapsed": true
   },
   "outputs": [],
   "source": []
  }
 ],
 "metadata": {
  "kernelspec": {
   "display_name": "Python 3",
   "language": "python",
   "name": "python3"
  },
  "language_info": {
   "codemirror_mode": {
    "name": "ipython",
    "version": 3
   },
   "file_extension": ".py",
   "mimetype": "text/x-python",
   "name": "python",
   "nbconvert_exporter": "python",
   "pygments_lexer": "ipython3",
   "version": "3.6.10"
  }
 },
 "nbformat": 4,
 "nbformat_minor": 2
}
