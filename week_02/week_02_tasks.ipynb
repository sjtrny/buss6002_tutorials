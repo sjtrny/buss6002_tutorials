{
 "cells": [
  {
   "cell_type": "markdown",
   "metadata": {},
   "source": [
    "<center><h1>BUSS6002 - Data Science in Business</h1></center>\n",
    "\n",
    "# Tutorial 2 Tasks\n",
    "\n",
    "## Task 1 - Exploratory Analysis\n",
    "\n",
    "The sales team wants to know if there is evidence of a relationship between the amount of catalogs sent to customers and the amount that they spend.\n",
    "\n",
    "Using the ``DirectMarketing.csv`` dataset:\n",
    "1. Create a scatter plot to visualise the relationship (x-axis is number of catalogs)\n",
    "2. Describe the relationship\n",
    "\n",
    "### Plotting with Clarity:\n",
    "\n",
    "Make sure to accurately label all axes and title with the following:\n",
    "\n",
    "- x-axis label: \"Number of Catalogs\"\n",
    "- y-axis label: \"Amount Spent\"\n",
    "- title: \"Amount Spent vs Number of Catalogs\"\n",
    "\n",
    "### Hint\n",
    "\n",
    "Use the ``alpha`` parameter of the ``scatter`` function to control the transparency of the points to better understand the density.\n",
    "\n",
    "    plt.scatter(... , ... , alpha = 0.1)\n",
    "\n",
    "\n",
    "## Task 2 - Historical Data \n",
    "\n",
    "The sales team wants to know what the trend of average customer spending is over the past 5 years. Each year the company randomly samples 1000 customers. You have already been given one year in the ``DirectMarketing.csv`` file.\n",
    "\n",
    "Helpfully the sales team has given you a new file called ``AmountSpent_13to17.csv``.\n",
    "\n",
    "Use this file to calculate the average (mean) customer spend per year. Present your results as a line plot. Don't forget to label all axes, title etc.\n",
    "\n",
    "### Your goal\n",
    "\n",
    "<img src=\"img/historical.png\" width=400>\n",
    "\n",
    "### Hint\n",
    "\n",
    "You can use the following code to label your x axis ticks:\n",
    "\n",
    "    plt.xticks( [1, 2, 3, 4, 5], ['2013', '2014', '2015', '2016', '2017'] )\n",
    "\n",
    "\n",
    "\n"
   ]
  },
  {
   "cell_type": "code",
   "execution_count": null,
   "metadata": {},
   "outputs": [],
   "source": []
  }
 ],
 "metadata": {
  "kernelspec": {
   "display_name": "Python 3",
   "language": "python",
   "name": "python3"
  },
  "language_info": {
   "codemirror_mode": {
    "name": "ipython",
    "version": 3
   },
   "file_extension": ".py",
   "mimetype": "text/x-python",
   "name": "python",
   "nbconvert_exporter": "python",
   "pygments_lexer": "ipython3",
   "version": "3.6.4"
  }
 },
 "nbformat": 4,
 "nbformat_minor": 2
}
