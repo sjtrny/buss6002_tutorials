{
 "cells": [
  {
   "cell_type": "markdown",
   "metadata": {},
   "source": [
    "<center><h1>BUSS6002 - Data Science in Business</h1></center>\n",
    "\n",
    "# Tutorial 1 Tasks\n",
    "\n",
    "## Task 1 - Debugging Code\n",
    "\n",
    "Debugging is the process of fixing or removing bugs in code. It is an important skill to have as you **will** write bugs in your own code.\n",
    "\n",
    "Tony has written some code and asked you to help fix it. He wants to square a list of numbers. The numbers to square are:\n",
    "    \n",
    "    1, 2, 3, 4, 5\n",
    "\n",
    "The output should be:\n",
    "\n",
    "    [1, 4, 9, 16, 25]\n",
    "    \n",
    "**HINT**: First try running the code and Python will tell you where the obvious problems are!"
   ]
  },
  {
   "cell_type": "code",
   "execution_count": 8,
   "metadata": {},
   "outputs": [
    {
     "name": "stdout",
     "output_type": "stream",
     "text": [
      "[1, 4, 9, 16, 25]\n"
     ]
    }
   ],
   "source": [
    "# Raise a to the power of 2\n",
    "def power_2(a):\n",
    "    return a * a\n",
    "\n",
    "list_of_numbers = [1, 2, \"3\", 4, 5]\n",
    "\n",
    "list of results = []\n",
    "\n",
    "for i in list_of_numbers:\n",
    "    value = power_3(i)\n",
    "#     list_of_results.append(value)\n",
    "\n",
    "print(list_of_numbers)"
   ]
  },
  {
   "cell_type": "markdown",
   "metadata": {},
   "source": [
    "## Task 2 - Memory\n",
    "\n",
    "Write Python code to create the following state in memory\n",
    "\n",
    "<img width=400 src=\"img/task2_ram.png\">\n",
    "\n",
    "You can check the state of memory by using the ``%whos`` command and you can clear all variables by using ``%reset``."
   ]
  },
  {
   "cell_type": "markdown",
   "metadata": {},
   "source": [
    "## Task 3 - Dice Rolling\n",
    "\n",
    "Write a Python script to generate 6 sided dice rolls.\n",
    "\n",
    "The script should prompt the user \"Roll the dice again? (y/n)\".\n",
    "\n",
    "If the user types \"y\" then the dice is rolled and the prompt is presented again.\n",
    "\n",
    "If the user types \"n\" then the script should end.\n",
    "\n",
    "**HINTS**\n",
    "\n",
    "To generate a random number in a range use the following code:"
   ]
  },
  {
   "cell_type": "code",
   "execution_count": null,
   "metadata": {},
   "outputs": [],
   "source": [
    "import random\n",
    "\n",
    "rand_number = random.randint(1, 6)"
   ]
  }
 ],
 "metadata": {
  "kernelspec": {
   "display_name": "Python 3",
   "language": "python",
   "name": "python3"
  },
  "language_info": {
   "codemirror_mode": {
    "name": "ipython",
    "version": 3
   },
   "file_extension": ".py",
   "mimetype": "text/x-python",
   "name": "python",
   "nbconvert_exporter": "python",
   "pygments_lexer": "ipython3",
   "version": "3.6.4"
  }
 },
 "nbformat": 4,
 "nbformat_minor": 2
}
