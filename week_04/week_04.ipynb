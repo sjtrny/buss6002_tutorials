{
 "cells": [
  {
   "cell_type": "markdown",
   "metadata": {},
   "source": [
    "<center><h1>BUSS6002 - Data Science in Business</h1></center>\n",
    "\n",
    "#### Pre-Tutorial Checklist\n",
    "\n",
    "1. Complete Tasks 1 and 3 from Week 3\n",
    "2. Attempt Week 4 tutorial up to AND including Exercise 1\n",
    "3. Obtain an API key from https://openweathermap.org/appid#get\n",
    "4. Obtain an API key from Quandl by creating an account https://www.quandl.com/\n",
    "\n",
    "\n",
    "# Tutorial 4 - Data Handling, Accessing APIs and Visualisation\n",
    "\n",
    "Start by importing ``pandas`` and loading our marketing dataset"
   ]
  },
  {
   "cell_type": "code",
   "execution_count": 1,
   "metadata": {
    "scrolled": true
   },
   "outputs": [
    {
     "data": {
      "text/html": [
       "<div>\n",
       "<style scoped>\n",
       "    .dataframe tbody tr th:only-of-type {\n",
       "        vertical-align: middle;\n",
       "    }\n",
       "\n",
       "    .dataframe tbody tr th {\n",
       "        vertical-align: top;\n",
       "    }\n",
       "\n",
       "    .dataframe thead th {\n",
       "        text-align: right;\n",
       "    }\n",
       "</style>\n",
       "<table border=\"1\" class=\"dataframe\">\n",
       "  <thead>\n",
       "    <tr style=\"text-align: right;\">\n",
       "      <th></th>\n",
       "      <th>Age</th>\n",
       "      <th>Gender</th>\n",
       "      <th>OwnHome</th>\n",
       "      <th>Married</th>\n",
       "      <th>Location</th>\n",
       "      <th>Salary</th>\n",
       "      <th>Children</th>\n",
       "      <th>History</th>\n",
       "      <th>Catalogs</th>\n",
       "      <th>AmountSpent</th>\n",
       "    </tr>\n",
       "  </thead>\n",
       "  <tbody>\n",
       "    <tr>\n",
       "      <th>0</th>\n",
       "      <td>Old</td>\n",
       "      <td>Female</td>\n",
       "      <td>Own</td>\n",
       "      <td>Single</td>\n",
       "      <td>Far</td>\n",
       "      <td>47500</td>\n",
       "      <td>0</td>\n",
       "      <td>High</td>\n",
       "      <td>6</td>\n",
       "      <td>755</td>\n",
       "    </tr>\n",
       "    <tr>\n",
       "      <th>1</th>\n",
       "      <td>Middle</td>\n",
       "      <td>Male</td>\n",
       "      <td>Rent</td>\n",
       "      <td>Single</td>\n",
       "      <td>Close</td>\n",
       "      <td>63600</td>\n",
       "      <td>0</td>\n",
       "      <td>High</td>\n",
       "      <td>6</td>\n",
       "      <td>1318</td>\n",
       "    </tr>\n",
       "    <tr>\n",
       "      <th>2</th>\n",
       "      <td>Young</td>\n",
       "      <td>Female</td>\n",
       "      <td>Rent</td>\n",
       "      <td>Single</td>\n",
       "      <td>Close</td>\n",
       "      <td>13500</td>\n",
       "      <td>0</td>\n",
       "      <td>Low</td>\n",
       "      <td>18</td>\n",
       "      <td>296</td>\n",
       "    </tr>\n",
       "    <tr>\n",
       "      <th>3</th>\n",
       "      <td>Middle</td>\n",
       "      <td>Male</td>\n",
       "      <td>Own</td>\n",
       "      <td>Married</td>\n",
       "      <td>Close</td>\n",
       "      <td>85600</td>\n",
       "      <td>1</td>\n",
       "      <td>High</td>\n",
       "      <td>18</td>\n",
       "      <td>2436</td>\n",
       "    </tr>\n",
       "    <tr>\n",
       "      <th>4</th>\n",
       "      <td>Middle</td>\n",
       "      <td>Female</td>\n",
       "      <td>Own</td>\n",
       "      <td>Single</td>\n",
       "      <td>Close</td>\n",
       "      <td>68400</td>\n",
       "      <td>0</td>\n",
       "      <td>High</td>\n",
       "      <td>12</td>\n",
       "      <td>1304</td>\n",
       "    </tr>\n",
       "  </tbody>\n",
       "</table>\n",
       "</div>"
      ],
      "text/plain": [
       "      Age  Gender OwnHome  Married Location  Salary  Children History  \\\n",
       "0     Old  Female     Own   Single      Far   47500         0    High   \n",
       "1  Middle    Male    Rent   Single    Close   63600         0    High   \n",
       "2   Young  Female    Rent   Single    Close   13500         0     Low   \n",
       "3  Middle    Male     Own  Married    Close   85600         1    High   \n",
       "4  Middle  Female     Own   Single    Close   68400         0    High   \n",
       "\n",
       "   Catalogs  AmountSpent  \n",
       "0         6          755  \n",
       "1         6         1318  \n",
       "2        18          296  \n",
       "3        18         2436  \n",
       "4        12         1304  "
      ]
     },
     "execution_count": 1,
     "metadata": {},
     "output_type": "execute_result"
    }
   ],
   "source": [
    "import pandas as pd\n",
    "\n",
    "marketing = pd.read_csv('DirectMarketing.csv')\n",
    "\n",
    "# Remember this dataset?\n",
    "marketing.head()"
   ]
  },
  {
   "cell_type": "markdown",
   "metadata": {},
   "source": [
    "# Aggregating Data\n",
    "\n",
    "The Pandas ``groupby`` feature is similar to the concept of pivot tables in Excel and performs exactly the same as ``group by`` in many database query languages.\n",
    "\n",
    "It gathers the data into groups based on unique categories in a column of a dataframe.  We do this when we have different groups in our data that we would like to summarize seperately.\n",
    "\n",
    "<div style=\"margin-bottom: 0px;\"><img width=20 style=\"display: block; float: left;  margin-right: 20px;\" src=\"img/docs.png\"> <h3 style=\"padding-top: 0px;\">Documentation - DataFrame.groupby</h3></div>\n",
    "https://pandas.pydata.org/pandas-docs/stable/reference/api/pandas.DataFrame.groupby.html\n",
    "\n",
    "<img width=900 src=\"img/groupby.png\">\n",
    "\n",
    "## Example\n",
    "\n",
    "Let's take a look at an example on the marketing data by grouping based on number of Catalogs. "
   ]
  },
  {
   "cell_type": "code",
   "execution_count": 2,
   "metadata": {},
   "outputs": [
    {
     "data": {
      "text/html": [
       "<div>\n",
       "<style scoped>\n",
       "    .dataframe tbody tr th:only-of-type {\n",
       "        vertical-align: middle;\n",
       "    }\n",
       "\n",
       "    .dataframe tbody tr th {\n",
       "        vertical-align: top;\n",
       "    }\n",
       "\n",
       "    .dataframe thead th {\n",
       "        text-align: right;\n",
       "    }\n",
       "</style>\n",
       "<table border=\"1\" class=\"dataframe\">\n",
       "  <thead>\n",
       "    <tr style=\"text-align: right;\">\n",
       "      <th></th>\n",
       "      <th>Age</th>\n",
       "      <th>Gender</th>\n",
       "      <th>OwnHome</th>\n",
       "      <th>Married</th>\n",
       "      <th>Location</th>\n",
       "      <th>Salary</th>\n",
       "      <th>Children</th>\n",
       "      <th>History</th>\n",
       "      <th>Catalogs</th>\n",
       "      <th>AmountSpent</th>\n",
       "    </tr>\n",
       "  </thead>\n",
       "  <tbody>\n",
       "    <tr>\n",
       "      <th>0</th>\n",
       "      <td>Old</td>\n",
       "      <td>Female</td>\n",
       "      <td>Own</td>\n",
       "      <td>Single</td>\n",
       "      <td>Far</td>\n",
       "      <td>47500</td>\n",
       "      <td>0</td>\n",
       "      <td>High</td>\n",
       "      <td>6</td>\n",
       "      <td>755</td>\n",
       "    </tr>\n",
       "    <tr>\n",
       "      <th>1</th>\n",
       "      <td>Middle</td>\n",
       "      <td>Male</td>\n",
       "      <td>Rent</td>\n",
       "      <td>Single</td>\n",
       "      <td>Close</td>\n",
       "      <td>63600</td>\n",
       "      <td>0</td>\n",
       "      <td>High</td>\n",
       "      <td>6</td>\n",
       "      <td>1318</td>\n",
       "    </tr>\n",
       "    <tr>\n",
       "      <th>2</th>\n",
       "      <td>Young</td>\n",
       "      <td>Female</td>\n",
       "      <td>Rent</td>\n",
       "      <td>Single</td>\n",
       "      <td>Close</td>\n",
       "      <td>13500</td>\n",
       "      <td>0</td>\n",
       "      <td>Low</td>\n",
       "      <td>18</td>\n",
       "      <td>296</td>\n",
       "    </tr>\n",
       "    <tr>\n",
       "      <th>3</th>\n",
       "      <td>Middle</td>\n",
       "      <td>Male</td>\n",
       "      <td>Own</td>\n",
       "      <td>Married</td>\n",
       "      <td>Close</td>\n",
       "      <td>85600</td>\n",
       "      <td>1</td>\n",
       "      <td>High</td>\n",
       "      <td>18</td>\n",
       "      <td>2436</td>\n",
       "    </tr>\n",
       "    <tr>\n",
       "      <th>4</th>\n",
       "      <td>Middle</td>\n",
       "      <td>Female</td>\n",
       "      <td>Own</td>\n",
       "      <td>Single</td>\n",
       "      <td>Close</td>\n",
       "      <td>68400</td>\n",
       "      <td>0</td>\n",
       "      <td>High</td>\n",
       "      <td>12</td>\n",
       "      <td>1304</td>\n",
       "    </tr>\n",
       "    <tr>\n",
       "      <th>5</th>\n",
       "      <td>Young</td>\n",
       "      <td>Male</td>\n",
       "      <td>Own</td>\n",
       "      <td>Married</td>\n",
       "      <td>Close</td>\n",
       "      <td>30400</td>\n",
       "      <td>0</td>\n",
       "      <td>Low</td>\n",
       "      <td>6</td>\n",
       "      <td>495</td>\n",
       "    </tr>\n",
       "    <tr>\n",
       "      <th>6</th>\n",
       "      <td>Middle</td>\n",
       "      <td>Female</td>\n",
       "      <td>Rent</td>\n",
       "      <td>Single</td>\n",
       "      <td>Close</td>\n",
       "      <td>48100</td>\n",
       "      <td>0</td>\n",
       "      <td>Medium</td>\n",
       "      <td>12</td>\n",
       "      <td>782</td>\n",
       "    </tr>\n",
       "    <tr>\n",
       "      <th>7</th>\n",
       "      <td>Middle</td>\n",
       "      <td>Male</td>\n",
       "      <td>Own</td>\n",
       "      <td>Single</td>\n",
       "      <td>Close</td>\n",
       "      <td>68400</td>\n",
       "      <td>0</td>\n",
       "      <td>High</td>\n",
       "      <td>18</td>\n",
       "      <td>1155</td>\n",
       "    </tr>\n",
       "    <tr>\n",
       "      <th>8</th>\n",
       "      <td>Middle</td>\n",
       "      <td>Female</td>\n",
       "      <td>Own</td>\n",
       "      <td>Married</td>\n",
       "      <td>Close</td>\n",
       "      <td>51900</td>\n",
       "      <td>3</td>\n",
       "      <td>Low</td>\n",
       "      <td>6</td>\n",
       "      <td>158</td>\n",
       "    </tr>\n",
       "    <tr>\n",
       "      <th>9</th>\n",
       "      <td>Old</td>\n",
       "      <td>Male</td>\n",
       "      <td>Own</td>\n",
       "      <td>Married</td>\n",
       "      <td>Far</td>\n",
       "      <td>80700</td>\n",
       "      <td>0</td>\n",
       "      <td>NaN</td>\n",
       "      <td>18</td>\n",
       "      <td>3034</td>\n",
       "    </tr>\n",
       "  </tbody>\n",
       "</table>\n",
       "</div>"
      ],
      "text/plain": [
       "      Age  Gender OwnHome  Married Location  Salary  Children History  \\\n",
       "0     Old  Female     Own   Single      Far   47500         0    High   \n",
       "1  Middle    Male    Rent   Single    Close   63600         0    High   \n",
       "2   Young  Female    Rent   Single    Close   13500         0     Low   \n",
       "3  Middle    Male     Own  Married    Close   85600         1    High   \n",
       "4  Middle  Female     Own   Single    Close   68400         0    High   \n",
       "5   Young    Male     Own  Married    Close   30400         0     Low   \n",
       "6  Middle  Female    Rent   Single    Close   48100         0  Medium   \n",
       "7  Middle    Male     Own   Single    Close   68400         0    High   \n",
       "8  Middle  Female     Own  Married    Close   51900         3     Low   \n",
       "9     Old    Male     Own  Married      Far   80700         0     NaN   \n",
       "\n",
       "   Catalogs  AmountSpent  \n",
       "0         6          755  \n",
       "1         6         1318  \n",
       "2        18          296  \n",
       "3        18         2436  \n",
       "4        12         1304  \n",
       "5         6          495  \n",
       "6        12          782  \n",
       "7        18         1155  \n",
       "8         6          158  \n",
       "9        18         3034  "
      ]
     },
     "execution_count": 2,
     "metadata": {},
     "output_type": "execute_result"
    }
   ],
   "source": [
    "# This is our original dataset\n",
    "marketing.head(n = 10)"
   ]
  },
  {
   "cell_type": "markdown",
   "metadata": {},
   "source": [
    "We can group our dataset by some categorical variables (or just attributes that do not have a lot of unique items) using the groupby:"
   ]
  },
  {
   "cell_type": "code",
   "execution_count": 4,
   "metadata": {},
   "outputs": [
    {
     "data": {
      "text/html": [
       "<div>\n",
       "<style scoped>\n",
       "    .dataframe tbody tr th:only-of-type {\n",
       "        vertical-align: middle;\n",
       "    }\n",
       "\n",
       "    .dataframe tbody tr th {\n",
       "        vertical-align: top;\n",
       "    }\n",
       "\n",
       "    .dataframe thead th {\n",
       "        text-align: right;\n",
       "    }\n",
       "</style>\n",
       "<table border=\"1\" class=\"dataframe\">\n",
       "  <thead>\n",
       "    <tr style=\"text-align: right;\">\n",
       "      <th></th>\n",
       "      <th>Age</th>\n",
       "      <th>Gender</th>\n",
       "      <th>OwnHome</th>\n",
       "      <th>Married</th>\n",
       "      <th>Location</th>\n",
       "      <th>Salary</th>\n",
       "      <th>Children</th>\n",
       "      <th>History</th>\n",
       "      <th>Catalogs</th>\n",
       "      <th>AmountSpent</th>\n",
       "    </tr>\n",
       "  </thead>\n",
       "  <tbody>\n",
       "    <tr>\n",
       "      <th>0</th>\n",
       "      <td>Old</td>\n",
       "      <td>Female</td>\n",
       "      <td>Own</td>\n",
       "      <td>Single</td>\n",
       "      <td>Far</td>\n",
       "      <td>47500</td>\n",
       "      <td>0</td>\n",
       "      <td>High</td>\n",
       "      <td>6</td>\n",
       "      <td>755</td>\n",
       "    </tr>\n",
       "    <tr>\n",
       "      <th>1</th>\n",
       "      <td>Middle</td>\n",
       "      <td>Male</td>\n",
       "      <td>Rent</td>\n",
       "      <td>Single</td>\n",
       "      <td>Close</td>\n",
       "      <td>63600</td>\n",
       "      <td>0</td>\n",
       "      <td>High</td>\n",
       "      <td>6</td>\n",
       "      <td>1318</td>\n",
       "    </tr>\n",
       "    <tr>\n",
       "      <th>2</th>\n",
       "      <td>Young</td>\n",
       "      <td>Female</td>\n",
       "      <td>Rent</td>\n",
       "      <td>Single</td>\n",
       "      <td>Close</td>\n",
       "      <td>13500</td>\n",
       "      <td>0</td>\n",
       "      <td>Low</td>\n",
       "      <td>18</td>\n",
       "      <td>296</td>\n",
       "    </tr>\n",
       "    <tr>\n",
       "      <th>3</th>\n",
       "      <td>Middle</td>\n",
       "      <td>Male</td>\n",
       "      <td>Own</td>\n",
       "      <td>Married</td>\n",
       "      <td>Close</td>\n",
       "      <td>85600</td>\n",
       "      <td>1</td>\n",
       "      <td>High</td>\n",
       "      <td>18</td>\n",
       "      <td>2436</td>\n",
       "    </tr>\n",
       "    <tr>\n",
       "      <th>4</th>\n",
       "      <td>Middle</td>\n",
       "      <td>Female</td>\n",
       "      <td>Own</td>\n",
       "      <td>Single</td>\n",
       "      <td>Close</td>\n",
       "      <td>68400</td>\n",
       "      <td>0</td>\n",
       "      <td>High</td>\n",
       "      <td>12</td>\n",
       "      <td>1304</td>\n",
       "    </tr>\n",
       "    <tr>\n",
       "      <th>5</th>\n",
       "      <td>Young</td>\n",
       "      <td>Male</td>\n",
       "      <td>Own</td>\n",
       "      <td>Married</td>\n",
       "      <td>Close</td>\n",
       "      <td>30400</td>\n",
       "      <td>0</td>\n",
       "      <td>Low</td>\n",
       "      <td>6</td>\n",
       "      <td>495</td>\n",
       "    </tr>\n",
       "    <tr>\n",
       "      <th>6</th>\n",
       "      <td>Middle</td>\n",
       "      <td>Female</td>\n",
       "      <td>Rent</td>\n",
       "      <td>Single</td>\n",
       "      <td>Close</td>\n",
       "      <td>48100</td>\n",
       "      <td>0</td>\n",
       "      <td>Medium</td>\n",
       "      <td>12</td>\n",
       "      <td>782</td>\n",
       "    </tr>\n",
       "    <tr>\n",
       "      <th>7</th>\n",
       "      <td>Middle</td>\n",
       "      <td>Male</td>\n",
       "      <td>Own</td>\n",
       "      <td>Single</td>\n",
       "      <td>Close</td>\n",
       "      <td>68400</td>\n",
       "      <td>0</td>\n",
       "      <td>High</td>\n",
       "      <td>18</td>\n",
       "      <td>1155</td>\n",
       "    </tr>\n",
       "    <tr>\n",
       "      <th>8</th>\n",
       "      <td>Middle</td>\n",
       "      <td>Female</td>\n",
       "      <td>Own</td>\n",
       "      <td>Married</td>\n",
       "      <td>Close</td>\n",
       "      <td>51900</td>\n",
       "      <td>3</td>\n",
       "      <td>Low</td>\n",
       "      <td>6</td>\n",
       "      <td>158</td>\n",
       "    </tr>\n",
       "    <tr>\n",
       "      <th>9</th>\n",
       "      <td>Old</td>\n",
       "      <td>Male</td>\n",
       "      <td>Own</td>\n",
       "      <td>Married</td>\n",
       "      <td>Far</td>\n",
       "      <td>80700</td>\n",
       "      <td>0</td>\n",
       "      <td>NaN</td>\n",
       "      <td>18</td>\n",
       "      <td>3034</td>\n",
       "    </tr>\n",
       "    <tr>\n",
       "      <th>10</th>\n",
       "      <td>Young</td>\n",
       "      <td>Male</td>\n",
       "      <td>Rent</td>\n",
       "      <td>Married</td>\n",
       "      <td>Close</td>\n",
       "      <td>43700</td>\n",
       "      <td>1</td>\n",
       "      <td>NaN</td>\n",
       "      <td>12</td>\n",
       "      <td>927</td>\n",
       "    </tr>\n",
       "    <tr>\n",
       "      <th>11</th>\n",
       "      <td>Middle</td>\n",
       "      <td>Male</td>\n",
       "      <td>Own</td>\n",
       "      <td>Married</td>\n",
       "      <td>Far</td>\n",
       "      <td>111800</td>\n",
       "      <td>3</td>\n",
       "      <td>High</td>\n",
       "      <td>18</td>\n",
       "      <td>2065</td>\n",
       "    </tr>\n",
       "    <tr>\n",
       "      <th>12</th>\n",
       "      <td>Middle</td>\n",
       "      <td>Female</td>\n",
       "      <td>Own</td>\n",
       "      <td>Married</td>\n",
       "      <td>Close</td>\n",
       "      <td>44100</td>\n",
       "      <td>1</td>\n",
       "      <td>Medium</td>\n",
       "      <td>24</td>\n",
       "      <td>704</td>\n",
       "    </tr>\n",
       "    <tr>\n",
       "      <th>13</th>\n",
       "      <td>Middle</td>\n",
       "      <td>Male</td>\n",
       "      <td>Own</td>\n",
       "      <td>Married</td>\n",
       "      <td>Close</td>\n",
       "      <td>111400</td>\n",
       "      <td>0</td>\n",
       "      <td>High</td>\n",
       "      <td>12</td>\n",
       "      <td>2136</td>\n",
       "    </tr>\n",
       "    <tr>\n",
       "      <th>14</th>\n",
       "      <td>Old</td>\n",
       "      <td>Female</td>\n",
       "      <td>Own</td>\n",
       "      <td>Married</td>\n",
       "      <td>Far</td>\n",
       "      <td>110000</td>\n",
       "      <td>0</td>\n",
       "      <td>High</td>\n",
       "      <td>24</td>\n",
       "      <td>5564</td>\n",
       "    </tr>\n",
       "    <tr>\n",
       "      <th>15</th>\n",
       "      <td>Middle</td>\n",
       "      <td>Female</td>\n",
       "      <td>Own</td>\n",
       "      <td>Married</td>\n",
       "      <td>Far</td>\n",
       "      <td>83100</td>\n",
       "      <td>1</td>\n",
       "      <td>NaN</td>\n",
       "      <td>12</td>\n",
       "      <td>2766</td>\n",
       "    </tr>\n",
       "    <tr>\n",
       "      <th>16</th>\n",
       "      <td>Old</td>\n",
       "      <td>Female</td>\n",
       "      <td>Own</td>\n",
       "      <td>Married</td>\n",
       "      <td>Close</td>\n",
       "      <td>82800</td>\n",
       "      <td>0</td>\n",
       "      <td>High</td>\n",
       "      <td>24</td>\n",
       "      <td>3010</td>\n",
       "    </tr>\n",
       "    <tr>\n",
       "      <th>20</th>\n",
       "      <td>Young</td>\n",
       "      <td>Female</td>\n",
       "      <td>Rent</td>\n",
       "      <td>Single</td>\n",
       "      <td>Far</td>\n",
       "      <td>14300</td>\n",
       "      <td>2</td>\n",
       "      <td>Low</td>\n",
       "      <td>6</td>\n",
       "      <td>194</td>\n",
       "    </tr>\n",
       "    <tr>\n",
       "      <th>32</th>\n",
       "      <td>Middle</td>\n",
       "      <td>Female</td>\n",
       "      <td>Rent</td>\n",
       "      <td>Married</td>\n",
       "      <td>Close</td>\n",
       "      <td>87700</td>\n",
       "      <td>3</td>\n",
       "      <td>NaN</td>\n",
       "      <td>24</td>\n",
       "      <td>2446</td>\n",
       "    </tr>\n",
       "    <tr>\n",
       "      <th>33</th>\n",
       "      <td>Middle</td>\n",
       "      <td>Male</td>\n",
       "      <td>Own</td>\n",
       "      <td>Married</td>\n",
       "      <td>Close</td>\n",
       "      <td>104100</td>\n",
       "      <td>0</td>\n",
       "      <td>High</td>\n",
       "      <td>24</td>\n",
       "      <td>2636</td>\n",
       "    </tr>\n",
       "  </tbody>\n",
       "</table>\n",
       "</div>"
      ],
      "text/plain": [
       "       Age  Gender OwnHome  Married Location  Salary  Children History  \\\n",
       "0      Old  Female     Own   Single      Far   47500         0    High   \n",
       "1   Middle    Male    Rent   Single    Close   63600         0    High   \n",
       "2    Young  Female    Rent   Single    Close   13500         0     Low   \n",
       "3   Middle    Male     Own  Married    Close   85600         1    High   \n",
       "4   Middle  Female     Own   Single    Close   68400         0    High   \n",
       "5    Young    Male     Own  Married    Close   30400         0     Low   \n",
       "6   Middle  Female    Rent   Single    Close   48100         0  Medium   \n",
       "7   Middle    Male     Own   Single    Close   68400         0    High   \n",
       "8   Middle  Female     Own  Married    Close   51900         3     Low   \n",
       "9      Old    Male     Own  Married      Far   80700         0     NaN   \n",
       "10   Young    Male    Rent  Married    Close   43700         1     NaN   \n",
       "11  Middle    Male     Own  Married      Far  111800         3    High   \n",
       "12  Middle  Female     Own  Married    Close   44100         1  Medium   \n",
       "13  Middle    Male     Own  Married    Close  111400         0    High   \n",
       "14     Old  Female     Own  Married      Far  110000         0    High   \n",
       "15  Middle  Female     Own  Married      Far   83100         1     NaN   \n",
       "16     Old  Female     Own  Married    Close   82800         0    High   \n",
       "20   Young  Female    Rent   Single      Far   14300         2     Low   \n",
       "32  Middle  Female    Rent  Married    Close   87700         3     NaN   \n",
       "33  Middle    Male     Own  Married    Close  104100         0    High   \n",
       "\n",
       "    Catalogs  AmountSpent  \n",
       "0          6          755  \n",
       "1          6         1318  \n",
       "2         18          296  \n",
       "3         18         2436  \n",
       "4         12         1304  \n",
       "5          6          495  \n",
       "6         12          782  \n",
       "7         18         1155  \n",
       "8          6          158  \n",
       "9         18         3034  \n",
       "10        12          927  \n",
       "11        18         2065  \n",
       "12        24          704  \n",
       "13        12         2136  \n",
       "14        24         5564  \n",
       "15        12         2766  \n",
       "16        24         3010  \n",
       "20         6          194  \n",
       "32        24         2446  \n",
       "33        24         2636  "
      ]
     },
     "execution_count": 4,
     "metadata": {},
     "output_type": "execute_result"
    }
   ],
   "source": [
    "catalog_groups = marketing.groupby('Catalogs')\n",
    "catalog_groups.head()"
   ]
  },
  {
   "cell_type": "markdown",
   "metadata": {},
   "source": [
    "So far it looks the same! The only difference is more rows. This is because by default the ``head`` function returns the first 5 rows in each group.\n",
    "\n",
    "It turns out that to make use of ``groupby`` we need to apply some summary operations to it. By summary, I mean something describing the data, like finding the sum, mean, median, maximum, minimum, etc. Let's apply the sum operation to the grouped dataset:"
   ]
  },
  {
   "cell_type": "code",
   "execution_count": 5,
   "metadata": {},
   "outputs": [
    {
     "data": {
      "text/plain": [
       "Catalogs\n",
       "6     155402\n",
       "12    287035\n",
       "18    348462\n",
       "24    425871\n",
       "Name: AmountSpent, dtype: int64"
      ]
     },
     "execution_count": 5,
     "metadata": {},
     "output_type": "execute_result"
    }
   ],
   "source": [
    "catalog_groups.sum()['AmountSpent']"
   ]
  },
  {
   "cell_type": "markdown",
   "metadata": {},
   "source": [
    "We obtain the total amount spent for each group! Using the ``type`` function we can see that the grouped dataset is stored in a pandas DataFrameGroupBy object (slightly different to the DataFrame object we're used to)"
   ]
  },
  {
   "cell_type": "code",
   "execution_count": 6,
   "metadata": {},
   "outputs": [
    {
     "data": {
      "text/plain": [
       "pandas.core.groupby.groupby.DataFrameGroupBy"
      ]
     },
     "execution_count": 6,
     "metadata": {},
     "output_type": "execute_result"
    }
   ],
   "source": [
    "type(catalog_groups)"
   ]
  },
  {
   "cell_type": "markdown",
   "metadata": {},
   "source": [
    "<div style=\"margin-bottom: 0px;\"><img width=20 style=\"display: block; float: left;  margin-right: 20px;\" src=\"img/docs.png\"> <h3 style=\"padding-top: 0px;\">Documentation - groupby.DataFrameGroupBy</h3></div>\n",
    "https://pandas.pydata.org/pandas-docs/stable/reference/groupby.html"
   ]
  },
  {
   "cell_type": "markdown",
   "metadata": {},
   "source": [
    "We can use the ``groups`` method to return a python dictionary ``dict`` object where group names become dictionary keys. You can see all the row indices corresponding to each group (it's a little hard to read!)\n",
    "\n",
    "<div style=\"margin-bottom: 0px;\"><img width=20 style=\"display: block; float: left;  margin-right: 20px;\" src=\"img/docs.png\"> <h3 style=\"padding-top: 0px;\">Documentation - GroupBy.groups</h3></div>\n",
    "https://pandas.pydata.org/pandas-docs/stable/reference/api/pandas.core.groupby.GroupBy.groups.html"
   ]
  },
  {
   "cell_type": "code",
   "execution_count": 7,
   "metadata": {},
   "outputs": [
    {
     "name": "stdout",
     "output_type": "stream",
     "text": [
      "{6: Int64Index([  0,   1,   5,   8,  20,  24,  26,  35,  46,  50,\n",
      "            ...\n",
      "            958, 962, 970, 972, 974, 978, 980, 982, 992, 994],\n",
      "           dtype='int64', length=252), 12: Int64Index([  4,   6,  10,  13,  15,  19,  21,  23,  28,  30,\n",
      "            ...\n",
      "            945, 948, 950, 954, 963, 964, 965, 966, 971, 975],\n",
      "           dtype='int64', length=282), 18: Int64Index([  2,   3,   7,   9,  11,  17,  18,  22,  25,  27,\n",
      "            ...\n",
      "            968, 973, 979, 985, 989, 990, 991, 995, 996, 998],\n",
      "           dtype='int64', length=233), 24: Int64Index([ 12,  14,  16,  32,  33,  36,  39,  41,  42,  49,\n",
      "            ...\n",
      "            977, 981, 983, 984, 986, 987, 988, 993, 997, 999],\n",
      "           dtype='int64', length=233)}\n"
     ]
    }
   ],
   "source": [
    "print(catalog_groups.groups)"
   ]
  },
  {
   "cell_type": "markdown",
   "metadata": {},
   "source": [
    "To make it a bit easier to read we can use the ``keys`` method from the ``dict`` class, which returns the group indices.\n",
    "\n",
    "<div style=\"margin-bottom: 0px;\"><img width=20 style=\"display: block; float: left;  margin-right: 20px;\" src=\"img/docs.png\"> <h3 style=\"padding-top: 0px;\">Documentation - dict.keys</h3></div>\n",
    "https://docs.python.org/3/library/stdtypes.html#dict.keys"
   ]
  },
  {
   "cell_type": "code",
   "execution_count": 7,
   "metadata": {},
   "outputs": [
    {
     "name": "stdout",
     "output_type": "stream",
     "text": [
      "dict_keys([6, 12, 18, 24])\n"
     ]
    }
   ],
   "source": [
    "print(catalog_groups.groups.keys())"
   ]
  },
  {
   "cell_type": "markdown",
   "metadata": {},
   "source": [
    "So the effect of the groupby operation only becomes apparent when you start summarizing data. Let's see some more examples:"
   ]
  },
  {
   "cell_type": "code",
   "execution_count": 8,
   "metadata": {},
   "outputs": [
    {
     "data": {
      "text/plain": [
       "Salary         56103.900\n",
       "Children           0.934\n",
       "Catalogs          14.682\n",
       "AmountSpent     1216.770\n",
       "dtype: float64"
      ]
     },
     "execution_count": 8,
     "metadata": {},
     "output_type": "execute_result"
    }
   ],
   "source": [
    "# Find the mean of the whole dataset\n",
    "marketing.mean()"
   ]
  },
  {
   "cell_type": "code",
   "execution_count": 9,
   "metadata": {},
   "outputs": [
    {
     "data": {
      "text/html": [
       "<div>\n",
       "<style scoped>\n",
       "    .dataframe tbody tr th:only-of-type {\n",
       "        vertical-align: middle;\n",
       "    }\n",
       "\n",
       "    .dataframe tbody tr th {\n",
       "        vertical-align: top;\n",
       "    }\n",
       "\n",
       "    .dataframe thead th {\n",
       "        text-align: right;\n",
       "    }\n",
       "</style>\n",
       "<table border=\"1\" class=\"dataframe\">\n",
       "  <thead>\n",
       "    <tr style=\"text-align: right;\">\n",
       "      <th></th>\n",
       "      <th>Salary</th>\n",
       "      <th>Children</th>\n",
       "      <th>AmountSpent</th>\n",
       "    </tr>\n",
       "    <tr>\n",
       "      <th>Catalogs</th>\n",
       "      <th></th>\n",
       "      <th></th>\n",
       "      <th></th>\n",
       "    </tr>\n",
       "  </thead>\n",
       "  <tbody>\n",
       "    <tr>\n",
       "      <th>6</th>\n",
       "      <td>46892.063492</td>\n",
       "      <td>1.134921</td>\n",
       "      <td>616.674603</td>\n",
       "    </tr>\n",
       "    <tr>\n",
       "      <th>12</th>\n",
       "      <td>55686.170213</td>\n",
       "      <td>0.936170</td>\n",
       "      <td>1017.854610</td>\n",
       "    </tr>\n",
       "    <tr>\n",
       "      <th>18</th>\n",
       "      <td>60408.154506</td>\n",
       "      <td>0.841202</td>\n",
       "      <td>1495.545064</td>\n",
       "    </tr>\n",
       "    <tr>\n",
       "      <th>24</th>\n",
       "      <td>62268.240343</td>\n",
       "      <td>0.806867</td>\n",
       "      <td>1827.772532</td>\n",
       "    </tr>\n",
       "  </tbody>\n",
       "</table>\n",
       "</div>"
      ],
      "text/plain": [
       "                Salary  Children  AmountSpent\n",
       "Catalogs                                     \n",
       "6         46892.063492  1.134921   616.674603\n",
       "12        55686.170213  0.936170  1017.854610\n",
       "18        60408.154506  0.841202  1495.545064\n",
       "24        62268.240343  0.806867  1827.772532"
      ]
     },
     "execution_count": 9,
     "metadata": {},
     "output_type": "execute_result"
    }
   ],
   "source": [
    "# Find the mean of the grouped dataset\n",
    "catalog_groups.mean()"
   ]
  },
  {
   "cell_type": "markdown",
   "metadata": {},
   "source": [
    "Notice the difference! This time it finds the mean separately for each Catalog group"
   ]
  },
  {
   "cell_type": "markdown",
   "metadata": {},
   "source": [
    "<div style=\"margin-bottom: 30px;\"><img width=48 style=\"display: block; float: left;  margin-right: 20px;\" src=\"img/question-mark-button.png\"> <h3 style=\"padding-top: 15px;\">Exercise 1 - Summary Statistics and Groups</h3></div>\n",
    "\n",
    "1. Try to calculate the mean of the means for each column of the grouped dataset.\n",
    "2. Why are they different to the mean of the entire dataset?"
   ]
  },
  {
   "cell_type": "markdown",
   "metadata": {},
   "source": [
    "# Merging Data\n",
    "\n",
    "We merge when we have two different datasets stored in two different DataFrames (two different places), and we want to combine them together somehow.\n",
    "\n",
    "If you have two datasets with some overlapping information then you might want to join them into a single dataframe for future processing.\n",
    "\n",
    "You can use the pandas ``merge`` function to take care of this. The only requirement is that in each dataset you have a column of data that is the same and unique for each row.\n",
    "\n",
    "<div style=\"margin-bottom: 0px;\"><img width=20 style=\"display: block; float: left;  margin-right: 20px;\" src=\"img/docs.png\"> <h3 style=\"padding-top: 0px;\">Documentation - DataFrame.merge</h3></div>\n",
    "https://pandas.pydata.org/pandas-docs/stable/reference/api/pandas.DataFrame.merge.html\n",
    "\n",
    "<img width=900 src=\"img/merge.png\">\n",
    "\n",
    "## Example"
   ]
  },
  {
   "cell_type": "markdown",
   "metadata": {},
   "source": [
    "Let's just record people's lunch as a DataFrame"
   ]
  },
  {
   "cell_type": "code",
   "execution_count": 10,
   "metadata": {},
   "outputs": [
    {
     "data": {
      "text/html": [
       "<div>\n",
       "<style scoped>\n",
       "    .dataframe tbody tr th:only-of-type {\n",
       "        vertical-align: middle;\n",
       "    }\n",
       "\n",
       "    .dataframe tbody tr th {\n",
       "        vertical-align: top;\n",
       "    }\n",
       "\n",
       "    .dataframe thead th {\n",
       "        text-align: right;\n",
       "    }\n",
       "</style>\n",
       "<table border=\"1\" class=\"dataframe\">\n",
       "  <thead>\n",
       "    <tr style=\"text-align: right;\">\n",
       "      <th></th>\n",
       "      <th>People</th>\n",
       "      <th>Lunch</th>\n",
       "    </tr>\n",
       "  </thead>\n",
       "  <tbody>\n",
       "    <tr>\n",
       "      <th>0</th>\n",
       "      <td>Kelvin</td>\n",
       "      <td>Sushi</td>\n",
       "    </tr>\n",
       "    <tr>\n",
       "      <th>1</th>\n",
       "      <td>Haonan</td>\n",
       "      <td>Cheeseburger</td>\n",
       "    </tr>\n",
       "    <tr>\n",
       "      <th>2</th>\n",
       "      <td>Daniel</td>\n",
       "      <td>Pizza</td>\n",
       "    </tr>\n",
       "  </tbody>\n",
       "</table>\n",
       "</div>"
      ],
      "text/plain": [
       "   People         Lunch\n",
       "0  Kelvin         Sushi\n",
       "1  Haonan  Cheeseburger\n",
       "2  Daniel         Pizza"
      ]
     },
     "execution_count": 10,
     "metadata": {},
     "output_type": "execute_result"
    }
   ],
   "source": [
    "lunch = pd.DataFrame({'People': ['Kelvin', 'Haonan', 'Daniel'], 'Lunch': ['Sushi', 'Cheeseburger', 'Pizza']})\n",
    "lunch"
   ]
  },
  {
   "cell_type": "markdown",
   "metadata": {},
   "source": [
    "Now, let's record people's dinner"
   ]
  },
  {
   "cell_type": "code",
   "execution_count": 11,
   "metadata": {},
   "outputs": [
    {
     "data": {
      "text/html": [
       "<div>\n",
       "<style scoped>\n",
       "    .dataframe tbody tr th:only-of-type {\n",
       "        vertical-align: middle;\n",
       "    }\n",
       "\n",
       "    .dataframe tbody tr th {\n",
       "        vertical-align: top;\n",
       "    }\n",
       "\n",
       "    .dataframe thead th {\n",
       "        text-align: right;\n",
       "    }\n",
       "</style>\n",
       "<table border=\"1\" class=\"dataframe\">\n",
       "  <thead>\n",
       "    <tr style=\"text-align: right;\">\n",
       "      <th></th>\n",
       "      <th>People</th>\n",
       "      <th>Dinner</th>\n",
       "    </tr>\n",
       "  </thead>\n",
       "  <tbody>\n",
       "    <tr>\n",
       "      <th>0</th>\n",
       "      <td>Kelvin</td>\n",
       "      <td>Ramen</td>\n",
       "    </tr>\n",
       "    <tr>\n",
       "      <th>1</th>\n",
       "      <td>Haonan</td>\n",
       "      <td>Salad</td>\n",
       "    </tr>\n",
       "    <tr>\n",
       "      <th>2</th>\n",
       "      <td>Annabelle</td>\n",
       "      <td>Thai</td>\n",
       "    </tr>\n",
       "  </tbody>\n",
       "</table>\n",
       "</div>"
      ],
      "text/plain": [
       "      People Dinner\n",
       "0     Kelvin  Ramen\n",
       "1     Haonan  Salad\n",
       "2  Annabelle   Thai"
      ]
     },
     "execution_count": 11,
     "metadata": {},
     "output_type": "execute_result"
    }
   ],
   "source": [
    "dinner = pd.DataFrame({'People': ['Kelvin', 'Haonan', 'Annabelle'], 'Dinner': ['Ramen', 'Salad', 'Thai']})\n",
    "dinner"
   ]
  },
  {
   "cell_type": "markdown",
   "metadata": {},
   "source": [
    "Let's merge these two datasets together. We want to keep all the data points (union) we have by setting how='outer' in the optional keywords\n",
    "\n",
    "How do we find out what keyword arguments to change? Use the documentation! I always google 'LIBRARY_NAME OBJECT_NAME METHOD_NAME'. For example, here I google 'pandas DataFrame merge'. Notice how there are missing data now."
   ]
  },
  {
   "cell_type": "code",
   "execution_count": 12,
   "metadata": {},
   "outputs": [
    {
     "data": {
      "text/html": [
       "<div>\n",
       "<style scoped>\n",
       "    .dataframe tbody tr th:only-of-type {\n",
       "        vertical-align: middle;\n",
       "    }\n",
       "\n",
       "    .dataframe tbody tr th {\n",
       "        vertical-align: top;\n",
       "    }\n",
       "\n",
       "    .dataframe thead th {\n",
       "        text-align: right;\n",
       "    }\n",
       "</style>\n",
       "<table border=\"1\" class=\"dataframe\">\n",
       "  <thead>\n",
       "    <tr style=\"text-align: right;\">\n",
       "      <th></th>\n",
       "      <th>People</th>\n",
       "      <th>Lunch</th>\n",
       "      <th>Dinner</th>\n",
       "    </tr>\n",
       "  </thead>\n",
       "  <tbody>\n",
       "    <tr>\n",
       "      <th>0</th>\n",
       "      <td>Kelvin</td>\n",
       "      <td>Sushi</td>\n",
       "      <td>Ramen</td>\n",
       "    </tr>\n",
       "    <tr>\n",
       "      <th>1</th>\n",
       "      <td>Haonan</td>\n",
       "      <td>Cheeseburger</td>\n",
       "      <td>Salad</td>\n",
       "    </tr>\n",
       "    <tr>\n",
       "      <th>2</th>\n",
       "      <td>Daniel</td>\n",
       "      <td>Pizza</td>\n",
       "      <td>NaN</td>\n",
       "    </tr>\n",
       "    <tr>\n",
       "      <th>3</th>\n",
       "      <td>Annabelle</td>\n",
       "      <td>NaN</td>\n",
       "      <td>Thai</td>\n",
       "    </tr>\n",
       "  </tbody>\n",
       "</table>\n",
       "</div>"
      ],
      "text/plain": [
       "      People         Lunch Dinner\n",
       "0     Kelvin         Sushi  Ramen\n",
       "1     Haonan  Cheeseburger  Salad\n",
       "2     Daniel         Pizza    NaN\n",
       "3  Annabelle           NaN   Thai"
      ]
     },
     "execution_count": 12,
     "metadata": {},
     "output_type": "execute_result"
    }
   ],
   "source": [
    "food = lunch.merge(dinner, how='outer')\n",
    "food"
   ]
  },
  {
   "cell_type": "markdown",
   "metadata": {},
   "source": [
    "We can reorder our dataset using indexing as well (last week's concepts)"
   ]
  },
  {
   "cell_type": "code",
   "execution_count": 13,
   "metadata": {},
   "outputs": [
    {
     "data": {
      "text/html": [
       "<div>\n",
       "<style scoped>\n",
       "    .dataframe tbody tr th:only-of-type {\n",
       "        vertical-align: middle;\n",
       "    }\n",
       "\n",
       "    .dataframe tbody tr th {\n",
       "        vertical-align: top;\n",
       "    }\n",
       "\n",
       "    .dataframe thead th {\n",
       "        text-align: right;\n",
       "    }\n",
       "</style>\n",
       "<table border=\"1\" class=\"dataframe\">\n",
       "  <thead>\n",
       "    <tr style=\"text-align: right;\">\n",
       "      <th></th>\n",
       "      <th>People</th>\n",
       "      <th>Lunch</th>\n",
       "      <th>Dinner</th>\n",
       "    </tr>\n",
       "  </thead>\n",
       "  <tbody>\n",
       "    <tr>\n",
       "      <th>0</th>\n",
       "      <td>Kelvin</td>\n",
       "      <td>Sushi</td>\n",
       "      <td>Ramen</td>\n",
       "    </tr>\n",
       "    <tr>\n",
       "      <th>1</th>\n",
       "      <td>Haonan</td>\n",
       "      <td>Cheeseburger</td>\n",
       "      <td>Salad</td>\n",
       "    </tr>\n",
       "    <tr>\n",
       "      <th>2</th>\n",
       "      <td>Daniel</td>\n",
       "      <td>Pizza</td>\n",
       "      <td>NaN</td>\n",
       "    </tr>\n",
       "    <tr>\n",
       "      <th>3</th>\n",
       "      <td>Annabelle</td>\n",
       "      <td>NaN</td>\n",
       "      <td>Thai</td>\n",
       "    </tr>\n",
       "  </tbody>\n",
       "</table>\n",
       "</div>"
      ],
      "text/plain": [
       "      People         Lunch Dinner\n",
       "0     Kelvin         Sushi  Ramen\n",
       "1     Haonan  Cheeseburger  Salad\n",
       "2     Daniel         Pizza    NaN\n",
       "3  Annabelle           NaN   Thai"
      ]
     },
     "execution_count": 13,
     "metadata": {},
     "output_type": "execute_result"
    }
   ],
   "source": [
    "food[['People', 'Lunch', 'Dinner']]"
   ]
  },
  {
   "cell_type": "markdown",
   "metadata": {},
   "source": [
    "<div style=\"margin-bottom: 30px;\"><img width=48 style=\"display: block; float: left;  margin-right: 20px;\" src=\"img/question-mark-button.png\"> <h3 style=\"padding-top: 15px;\">Exercise 2 - Merging</h3></div>\n",
    "\n",
    "The code below executes an *inner* join and returns fewer rows. Which rows have been dropped and why?"
   ]
  },
  {
   "cell_type": "code",
   "execution_count": 14,
   "metadata": {},
   "outputs": [
    {
     "data": {
      "text/html": [
       "<div>\n",
       "<style scoped>\n",
       "    .dataframe tbody tr th:only-of-type {\n",
       "        vertical-align: middle;\n",
       "    }\n",
       "\n",
       "    .dataframe tbody tr th {\n",
       "        vertical-align: top;\n",
       "    }\n",
       "\n",
       "    .dataframe thead th {\n",
       "        text-align: right;\n",
       "    }\n",
       "</style>\n",
       "<table border=\"1\" class=\"dataframe\">\n",
       "  <thead>\n",
       "    <tr style=\"text-align: right;\">\n",
       "      <th></th>\n",
       "      <th>People</th>\n",
       "      <th>Lunch</th>\n",
       "      <th>Dinner</th>\n",
       "    </tr>\n",
       "  </thead>\n",
       "  <tbody>\n",
       "    <tr>\n",
       "      <th>0</th>\n",
       "      <td>Kelvin</td>\n",
       "      <td>Sushi</td>\n",
       "      <td>Ramen</td>\n",
       "    </tr>\n",
       "    <tr>\n",
       "      <th>1</th>\n",
       "      <td>Haonan</td>\n",
       "      <td>Cheeseburger</td>\n",
       "      <td>Salad</td>\n",
       "    </tr>\n",
       "  </tbody>\n",
       "</table>\n",
       "</div>"
      ],
      "text/plain": [
       "   People         Lunch Dinner\n",
       "0  Kelvin         Sushi  Ramen\n",
       "1  Haonan  Cheeseburger  Salad"
      ]
     },
     "execution_count": 14,
     "metadata": {},
     "output_type": "execute_result"
    }
   ],
   "source": [
    "food = lunch.merge(dinner)\n",
    "food"
   ]
  },
  {
   "cell_type": "markdown",
   "metadata": {},
   "source": [
    "# Application Programming Interfaces (APIs)\n",
    "\n",
    "Application Program Interfaces, or APIs, are tools that allow us to access data from remote servers. Sites like Twitter, Facebook and Spotify all have API's that make some of their data accessible. This is useful in cases where the database may be rapidly changing, such as with stocks, or when we only need a portion of a very large database.\n",
    "\n",
    "APIs also allow programs and apps to access live data and services without storing a copy of the database. For example, the Uber app makes use of the Google Maps API for geographical data, and the Braintree API for online payments services.\n",
    "\n",
    "APIs can be accessed in two different ways in Python: through URL requests and through pre-built Python libraries. Here we will learn both. As a layer of added security, many API's require the use of unique keys (a pseudorandom string of characters) which are specific to a user or app. For this demonstration we will provide the API keys but you are encouraged to obtain your own since many API keys have a request limit."
   ]
  },
  {
   "cell_type": "markdown",
   "metadata": {},
   "source": [
    "# Accessing API's via HTTP Request\n",
    "\n",
    "Many API's can be accessed through a simple URL call where the query parameters are embedded in the URL. You may have noticed that your search terms in Google appear in the URL of the results page. This is because the Google search engine works in the exact same way.\n",
    "\n",
    "<img width=900 src=\"img/api.png\">\n",
    "\n",
    "Here we will use the OpenWeatherMaps API to get live weather data from anywhere in the world. You can obtain an API key by signing up at https://openweathermap.org/api. The code below generates an OpenWeatherMaps API query.\n",
    "\n",
    "<div style=\"margin-bottom: 0px;\"><img width=20 style=\"display: block; float: left;  margin-right: 20px;\" src=\"img/docs.png\"> <h3 style=\"padding-top: 0px;\">Documentation - OpenWeatherMap</h3></div>\n",
    "https://openweathermap.org/current"
   ]
  },
  {
   "cell_type": "code",
   "execution_count": 10,
   "metadata": {},
   "outputs": [
    {
     "name": "stdout",
     "output_type": "stream",
     "text": [
      "Enter city name : Sydney\n",
      "http://api.openweathermap.org/data/2.5/weather?appid=491a9ec8e8da3febdea1b7e83c2e9ed3&q=Sydney\n"
     ]
    }
   ],
   "source": [
    "# Specify the apiKey\n",
    "api_key = '491a9ec8e8da3febdea1b7e83c2e9ed3'\n",
    "\n",
    "# Build the query URL\n",
    "base_url = \"http://api.openweathermap.org/data/2.5/weather?\" \n",
    "city_name = input(\"Enter city name : \") \n",
    "url = base_url + \"appid=\" + api_key + \"&q=\" + city_name\n",
    "\n",
    "print(url)"
   ]
  },
  {
   "cell_type": "markdown",
   "metadata": {},
   "source": [
    "Clicking on the link should open a page of weather data encoded in a familiar format: ``json``. To use this data, we can make a URL request in Python and unpack the ``json`` file.\n",
    "\n",
    "To do this we will use the `` .get()`` function from the Requests Python library. You can install Requests by typing\n",
    "\n",
    "``conda install requests``\n",
    "\n",
    "into Terminal on Mac OSX or into Anaconda prompt in Windows. This will allow us to call data from a URL in python.\n",
    "\n",
    "<div style=\"margin-bottom: 0px;\"><img width=20 style=\"display: block; float: left;  margin-right: 20px;\" src=\"img/docs.png\"> <h3 style=\"padding-top: 0px;\">Documentation - requests</h3></div>\n",
    "http://docs.python-requests.org/en/master/"
   ]
  },
  {
   "cell_type": "code",
   "execution_count": 11,
   "metadata": {},
   "outputs": [
    {
     "name": "stdout",
     "output_type": "stream",
     "text": [
      "{'coord': {'lon': 151.22, 'lat': -33.85}, 'weather': [{'id': 802, 'main': 'Clouds', 'description': 'scattered clouds', 'icon': '03d'}], 'base': 'stations', 'main': {'temp': 298.92, 'pressure': 1015, 'humidity': 69, 'temp_min': 297.59, 'temp_max': 300.37}, 'visibility': 10000, 'wind': {'speed': 5.1, 'deg': 130}, 'clouds': {'all': 40}, 'dt': 1553229951, 'sys': {'type': 1, 'id': 9600, 'message': 0.005, 'country': 'AU', 'sunrise': 1553198350, 'sunset': 1553241916}, 'id': 2147714, 'name': 'Sydney', 'cod': 200}\n"
     ]
    }
   ],
   "source": [
    "import requests, json\n",
    "\n",
    "response = requests.get(url)\n",
    "x = response.json() \n",
    "\n",
    "print(x)"
   ]
  },
  {
   "cell_type": "markdown",
   "metadata": {},
   "source": [
    "Now x contains a series of nested dictionaries and lists containing weather information.\n",
    "\n",
    "An important thing to note is the 'cod' code at the very end. This tells you the HTTP status code for the request, so if your request fails you can have some idea why. The most common ones are ``200``, which means the request encountered no errors, and ``404`` which indicates that no results were found. An index of HTTP status codes can be found on [Wikipedia](https://en.wikipedia.org/wiki/List_of_HTTP_status_codes).\n",
    "\n",
    "We can go a step further and print out some of the data:"
   ]
  },
  {
   "cell_type": "code",
   "execution_count": 12,
   "metadata": {},
   "outputs": [
    {
     "name": "stdout",
     "output_type": "stream",
     "text": [
      " Temperature (in kelvin) = 298.92\n",
      " atmospheric pressure (in hPa) = 1015\n",
      " humidity (percent) = 69\n",
      " description = scattered clouds\n"
     ]
    }
   ],
   "source": [
    "temperature = x[\"main\"][\"temp\"]    \n",
    "pressure = x[\"main\"][\"pressure\"]   \n",
    "humidiy = x[\"main\"][\"humidity\"]   \n",
    "description = x[\"weather\"][0][\"description\"] \n",
    "  \n",
    "# pretty print the response \n",
    "print(\" Temperature (in kelvin) = \" +\n",
    "                str(temperature) + \n",
    "      \"\\n atmospheric pressure (in hPa) = \" +\n",
    "                str(pressure) +\n",
    "      \"\\n humidity (percent) = \" +\n",
    "                str(humidiy) +\n",
    "      \"\\n description = \" +\n",
    "                str(description))"
   ]
  },
  {
   "cell_type": "markdown",
   "metadata": {},
   "source": [
    "<div style=\"margin-bottom: 30px;\"><img width=48 style=\"display: block; float: left;  margin-right: 20px;\" src=\"img/question-mark-button.png\"> <h3 style=\"padding-top: 15px;\">Exercise 3 - API calls</h3></div>\n",
    "\n",
    "By looking at the documentation for the OpenWeatherMap API, are you able to construct a URL that will tell you the name of the town at latitude 34 and longitude -118?"
   ]
  },
  {
   "cell_type": "markdown",
   "metadata": {},
   "source": [
    "# Accessing API's via a Python Library\n",
    "\n",
    "Quandl is a public database containing historical financial and economic data as well as other information relevant to investors. The database is sourced from over 500 publishers and is made freely accessible through an API. You can obtain a Quandl API key by signing up at https://www.quandl.com/ and navigating to account settings.\n",
    "\n",
    "<div style=\"margin-bottom: 0px;\"><img width=20 style=\"display: block; float: left;  margin-right: 20px;\" src=\"img/docs.png\"> <h3 style=\"padding-top: 0px;\">Documentation - Quandl</h3></div>\n",
    "https://docs.quandl.com/docs/python-time-series\n",
    "\n",
    "We can the quandl Python library's own ``.get()`` function to obtain time-series stock data for a chosen company as a pandas DataFrame. Quandl uses a system of codes to identify stock datasets. The codes are formatted as ``Database/Ticker``. We will use the public ``WIKI`` database and the ticker for facebook stock, ``FB``."
   ]
  },
  {
   "cell_type": "code",
   "execution_count": 13,
   "metadata": {},
   "outputs": [
    {
     "data": {
      "text/html": [
       "<div>\n",
       "<style scoped>\n",
       "    .dataframe tbody tr th:only-of-type {\n",
       "        vertical-align: middle;\n",
       "    }\n",
       "\n",
       "    .dataframe tbody tr th {\n",
       "        vertical-align: top;\n",
       "    }\n",
       "\n",
       "    .dataframe thead th {\n",
       "        text-align: right;\n",
       "    }\n",
       "</style>\n",
       "<table border=\"1\" class=\"dataframe\">\n",
       "  <thead>\n",
       "    <tr style=\"text-align: right;\">\n",
       "      <th></th>\n",
       "      <th>Open</th>\n",
       "      <th>High</th>\n",
       "      <th>Low</th>\n",
       "      <th>Close</th>\n",
       "      <th>Volume</th>\n",
       "      <th>Ex-Dividend</th>\n",
       "      <th>Split Ratio</th>\n",
       "      <th>Adj. Open</th>\n",
       "      <th>Adj. High</th>\n",
       "      <th>Adj. Low</th>\n",
       "      <th>Adj. Close</th>\n",
       "      <th>Adj. Volume</th>\n",
       "    </tr>\n",
       "    <tr>\n",
       "      <th>Date</th>\n",
       "      <th></th>\n",
       "      <th></th>\n",
       "      <th></th>\n",
       "      <th></th>\n",
       "      <th></th>\n",
       "      <th></th>\n",
       "      <th></th>\n",
       "      <th></th>\n",
       "      <th></th>\n",
       "      <th></th>\n",
       "      <th></th>\n",
       "      <th></th>\n",
       "    </tr>\n",
       "  </thead>\n",
       "  <tbody>\n",
       "    <tr>\n",
       "      <th>2017-12-12</th>\n",
       "      <td>178.60</td>\n",
       "      <td>179.1800</td>\n",
       "      <td>176.60</td>\n",
       "      <td>176.96</td>\n",
       "      <td>16675275.0</td>\n",
       "      <td>0.0</td>\n",
       "      <td>1.0</td>\n",
       "      <td>178.60</td>\n",
       "      <td>179.1800</td>\n",
       "      <td>176.60</td>\n",
       "      <td>176.96</td>\n",
       "      <td>16675275.0</td>\n",
       "    </tr>\n",
       "    <tr>\n",
       "      <th>2017-12-13</th>\n",
       "      <td>177.30</td>\n",
       "      <td>179.1600</td>\n",
       "      <td>177.25</td>\n",
       "      <td>178.30</td>\n",
       "      <td>14406776.0</td>\n",
       "      <td>0.0</td>\n",
       "      <td>1.0</td>\n",
       "      <td>177.30</td>\n",
       "      <td>179.1600</td>\n",
       "      <td>177.25</td>\n",
       "      <td>178.30</td>\n",
       "      <td>14406776.0</td>\n",
       "    </tr>\n",
       "    <tr>\n",
       "      <th>2017-12-14</th>\n",
       "      <td>178.29</td>\n",
       "      <td>180.3601</td>\n",
       "      <td>177.68</td>\n",
       "      <td>178.39</td>\n",
       "      <td>13393757.0</td>\n",
       "      <td>0.0</td>\n",
       "      <td>1.0</td>\n",
       "      <td>178.29</td>\n",
       "      <td>180.3601</td>\n",
       "      <td>177.68</td>\n",
       "      <td>178.39</td>\n",
       "      <td>13393757.0</td>\n",
       "    </tr>\n",
       "    <tr>\n",
       "      <th>2017-12-15</th>\n",
       "      <td>179.02</td>\n",
       "      <td>180.4934</td>\n",
       "      <td>178.36</td>\n",
       "      <td>180.18</td>\n",
       "      <td>26225100.0</td>\n",
       "      <td>0.0</td>\n",
       "      <td>1.0</td>\n",
       "      <td>179.02</td>\n",
       "      <td>180.4934</td>\n",
       "      <td>178.36</td>\n",
       "      <td>180.18</td>\n",
       "      <td>26225100.0</td>\n",
       "    </tr>\n",
       "    <tr>\n",
       "      <th>2017-12-18</th>\n",
       "      <td>181.01</td>\n",
       "      <td>181.3000</td>\n",
       "      <td>179.75</td>\n",
       "      <td>180.82</td>\n",
       "      <td>17014337.0</td>\n",
       "      <td>0.0</td>\n",
       "      <td>1.0</td>\n",
       "      <td>181.01</td>\n",
       "      <td>181.3000</td>\n",
       "      <td>179.75</td>\n",
       "      <td>180.82</td>\n",
       "      <td>17014337.0</td>\n",
       "    </tr>\n",
       "  </tbody>\n",
       "</table>\n",
       "</div>"
      ],
      "text/plain": [
       "              Open      High     Low   Close      Volume  Ex-Dividend  \\\n",
       "Date                                                                    \n",
       "2017-12-12  178.60  179.1800  176.60  176.96  16675275.0          0.0   \n",
       "2017-12-13  177.30  179.1600  177.25  178.30  14406776.0          0.0   \n",
       "2017-12-14  178.29  180.3601  177.68  178.39  13393757.0          0.0   \n",
       "2017-12-15  179.02  180.4934  178.36  180.18  26225100.0          0.0   \n",
       "2017-12-18  181.01  181.3000  179.75  180.82  17014337.0          0.0   \n",
       "\n",
       "            Split Ratio  Adj. Open  Adj. High  Adj. Low  Adj. Close  \\\n",
       "Date                                                                  \n",
       "2017-12-12          1.0     178.60   179.1800    176.60      176.96   \n",
       "2017-12-13          1.0     177.30   179.1600    177.25      178.30   \n",
       "2017-12-14          1.0     178.29   180.3601    177.68      178.39   \n",
       "2017-12-15          1.0     179.02   180.4934    178.36      180.18   \n",
       "2017-12-18          1.0     181.01   181.3000    179.75      180.82   \n",
       "\n",
       "            Adj. Volume  \n",
       "Date                     \n",
       "2017-12-12   16675275.0  \n",
       "2017-12-13   14406776.0  \n",
       "2017-12-14   13393757.0  \n",
       "2017-12-15   26225100.0  \n",
       "2017-12-18   17014337.0  "
      ]
     },
     "execution_count": 13,
     "metadata": {},
     "output_type": "execute_result"
    }
   ],
   "source": [
    "import quandl\n",
    "\n",
    "api_key = 'QV43tMteJEMB4s1__FbP'\n",
    "\n",
    "fb_data = quandl.get(\"WIKI/FB\", trim_start = \"2017-12-12\", trim_end = \"2018-12-30\", authtoken=api_key)\n",
    "\n",
    "fb_data.head()"
   ]
  },
  {
   "cell_type": "markdown",
   "metadata": {},
   "source": [
    "<div style=\"margin-bottom: 30px;\"><img width=48 style=\"display: block; float: left;  margin-right: 20px;\" src=\"img/question-mark-button.png\"> <h3 style=\"padding-top: 15px;\">Exercise 4 - API queries</h3></div>\n",
    "\n",
    "Show the closing prices of Twitter shares from the 1st of January to the 30th of December 2018 as a line plot. The Twitter ticker is ``TWTR``."
   ]
  },
  {
   "cell_type": "markdown",
   "metadata": {},
   "source": [
    "# Visualisation: Bar Charts\n",
    "\n",
    "Bar charts are a useful way of visualising and comparing data for multiple discrete categories. The data can also be clustered in various ways, such as grouping and stacking, in order to show more than one measured variable.\n",
    "\n",
    "The following code generates a DataFrame containing demographic data from a town. The data shows the total male and female population for three age brackets."
   ]
  },
  {
   "cell_type": "code",
   "execution_count": 19,
   "metadata": {},
   "outputs": [
    {
     "data": {
      "text/html": [
       "<div>\n",
       "<style scoped>\n",
       "    .dataframe tbody tr th:only-of-type {\n",
       "        vertical-align: middle;\n",
       "    }\n",
       "\n",
       "    .dataframe tbody tr th {\n",
       "        vertical-align: top;\n",
       "    }\n",
       "\n",
       "    .dataframe thead th {\n",
       "        text-align: right;\n",
       "    }\n",
       "</style>\n",
       "<table border=\"1\" class=\"dataframe\">\n",
       "  <thead>\n",
       "    <tr style=\"text-align: right;\">\n",
       "      <th></th>\n",
       "      <th>Age</th>\n",
       "      <th>Male</th>\n",
       "      <th>Female</th>\n",
       "      <th>Total</th>\n",
       "    </tr>\n",
       "  </thead>\n",
       "  <tbody>\n",
       "    <tr>\n",
       "      <th>0</th>\n",
       "      <td>Young</td>\n",
       "      <td>1783</td>\n",
       "      <td>1950</td>\n",
       "      <td>3733</td>\n",
       "    </tr>\n",
       "    <tr>\n",
       "      <th>1</th>\n",
       "      <td>Middle</td>\n",
       "      <td>2289</td>\n",
       "      <td>2320</td>\n",
       "      <td>4609</td>\n",
       "    </tr>\n",
       "    <tr>\n",
       "      <th>2</th>\n",
       "      <td>Old</td>\n",
       "      <td>1032</td>\n",
       "      <td>1491</td>\n",
       "      <td>2523</td>\n",
       "    </tr>\n",
       "  </tbody>\n",
       "</table>\n",
       "</div>"
      ],
      "text/plain": [
       "      Age  Male  Female  Total\n",
       "0   Young  1783    1950   3733\n",
       "1  Middle  2289    2320   4609\n",
       "2     Old  1032    1491   2523"
      ]
     },
     "execution_count": 19,
     "metadata": {},
     "output_type": "execute_result"
    }
   ],
   "source": [
    "data = {'Age': ['Young','Middle','Old'],\n",
    "        'Male': [1783,2289,1032],\n",
    "        'Female': [1950,2320,1491],\n",
    "        'Total': [3733,4609,2523]\n",
    "        }\n",
    "\n",
    "df = pd.DataFrame(data,columns= ['Age', 'Male', 'Female','Total'])\n",
    "\n",
    "df.head()"
   ]
  },
  {
   "cell_type": "markdown",
   "metadata": {},
   "source": [
    "We can create a bar chart using the matplotlib ``.bar()`` function to visualise the total population in each age group"
   ]
  },
  {
   "cell_type": "code",
   "execution_count": 20,
   "metadata": {},
   "outputs": [
    {
     "data": {
      "image/png": "[encoded data removed]",
      "text/plain": [
       "<Figure size 432x288 with 1 Axes>"
      ]
     },
     "metadata": {},
     "output_type": "display_data"
    }
   ],
   "source": [
    "%matplotlib inline\n",
    "import numpy as np\n",
    "import matplotlib.pyplot as plt\n",
    "\n",
    "# extract values from the dataframe and create an array of category indices, x_pos\n",
    "total = df['Total'].values\n",
    "x_pos = np.arange(len(total))\n",
    "\n",
    "# create the bar chart\n",
    "plt.bar(x_pos, total, align='center')\n",
    "\n",
    "# use .xticks() to replace x_pos indices with category names\n",
    "plt.xticks(x_pos, ('Young', 'Middle', 'Old'))\n",
    "\n",
    "# add labels and title\n",
    "plt.ylabel('Total Population')\n",
    "plt.title('Population by Age Bracket')\n",
    " \n",
    "plt.show()"
   ]
  },
  {
   "cell_type": "markdown",
   "metadata": {},
   "source": [
    "We can make this chart slightly more interesting by comparing male and female populations in each age group.  One way of achieving this is to stack bars vertically on one another."
   ]
  },
  {
   "cell_type": "code",
   "execution_count": 22,
   "metadata": {},
   "outputs": [
    {
     "data": {
      "image/png": "[encoded data removed]",
      "text/plain": [
       "<Figure size 432x288 with 1 Axes>"
      ]
     },
     "metadata": {},
     "output_type": "display_data"
    }
   ],
   "source": [
    "# We call .bar() on both sets of data. On the second call we must also specify the bottom dataset\n",
    "plt.bar(x_pos, df['Male'].values)\n",
    "plt.bar(x_pos, df['Female'].values, bottom=df['Male'].values)\n",
    "\n",
    "# again we add labels and title\n",
    "plt.xticks(x_pos, ('Young', 'Middle', 'Old'))\n",
    "plt.ylabel('Total Population')\n",
    "plt.title('Population by Age Bracket')\n",
    "\n",
    "# we add a colour map\n",
    "Gender=['Male','Female']\n",
    "plt.legend(Gender,loc=2)\n",
    "\n",
    "plt.show()"
   ]
  },
  {
   "cell_type": "markdown",
   "metadata": {},
   "source": [
    "Another way of achieving a similar effect is by grouping bars together. We will do this by specifying a separation width and staggering the x_pos values of the second dataset by exactly one width. Instead of using ``.bar()`` we will use the ``.barh()`` function, which works in much the same way but plots horizontal bars instead of vertical ones."
   ]
  },
  {
   "cell_type": "code",
   "execution_count": 22,
   "metadata": {},
   "outputs": [
    {
     "data": {
      "image/png": "[encoded data removed]",
      "text/plain": [
       "<Figure size 432x288 with 1 Axes>"
      ]
     },
     "metadata": {},
     "output_type": "display_data"
    }
   ],
   "source": [
    "bar_width = 0.35\n",
    "\n",
    "plt.barh(x_pos,df['Male'].values, bar_width, color='blue')\n",
    "plt.barh(x_pos+bar_width,df['Female'].values, bar_width, color='green')\n",
    "\n",
    "# again we add labels and title\n",
    "# notice that xticks is now yticks and ylabel is now xlabel\n",
    "plt.yticks(x_pos+(bar_width/2), ('Young', 'Middle', 'Old'))\n",
    "plt.xlabel('Total Population')\n",
    "plt.title('Population by Age Bracket')\n",
    "\n",
    "# we add a colour map\n",
    "Gender=['Male','Female']\n",
    "plt.legend(Gender,loc=1)\n",
    "plt.show()"
   ]
  },
  {
   "cell_type": "markdown",
   "metadata": {},
   "source": [
    "Note that it's also possible to generate basic bar plots directly within pandas, as in the snippet of code below:"
   ]
  },
  {
   "cell_type": "code",
   "execution_count": 23,
   "metadata": {},
   "outputs": [
    {
     "data": {
      "image/png": "[encoded data removed]",
      "text/plain": [
       "<Figure size 432x288 with 1 Axes>"
      ]
     },
     "metadata": {},
     "output_type": "display_data"
    }
   ],
   "source": [
    "del df['Total']\n",
    "\n",
    "df.plot(kind='bar', stacked=True)\n",
    "plt.show()"
   ]
  }
 ],
 "metadata": {
  "kernelspec": {
   "display_name": "Python 3",
   "language": "python",
   "name": "python3"
  },
  "language_info": {
   "codemirror_mode": {
    "name": "ipython",
    "version": 3
   },
   "file_extension": ".py",
   "mimetype": "text/x-python",
   "name": "python",
   "nbconvert_exporter": "python",
   "pygments_lexer": "ipython3",
   "version": "3.6.8"
  }
 },
 "nbformat": 4,
 "nbformat_minor": 2
}
