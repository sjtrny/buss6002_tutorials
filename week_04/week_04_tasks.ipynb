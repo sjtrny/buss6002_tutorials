{
 "cells": [
  {
   "cell_type": "markdown",
   "metadata": {},
   "source": [
    "<center><h1>BUSS6002 - Data Science in Business</h1></center>\n",
    "\n",
    "# Tutorial 4 Tasks\n",
    "\n",
    "\n",
    "\n",
    "## Task 1 - Aggregation\n",
    "\n",
    "Use ``DirectMarketing.csv``\n",
    "\n",
    "#### How much do different age groups spend on average?\n",
    "\n",
    "1. Create a pivot table for the three age groups with mean values.\n",
    "2. Visualise the result with a bar chart.\n",
    "\n",
    "## Task 2 - APIs\n",
    "\n",
    "We will use Quandl to analyse Forex exchange data.\n",
    "\n",
    "1. Use Quandl to obtain time-series datasets for the GBP/USD and AUD/USD exchange rates. These are available through the ``CURRFX`` database and have the Quandl codes ``GBPUSD`` and ``AUDUSD`` respectively. We're interested in rates between the 1st of January 2018 and the 30th of December 2018. Use the ``collapse='weekly'`` argument to request weekly data.\n",
    "\n",
    "2. Merge the GBP and AUD dataframes using an inner merge. Use indices as merge keys for both left and right DataFrames. To keep track of columns, it may be necessary to rename them.\n",
    "\n",
    "3. So far, all columns are exchange rates in terms of USD. Create a new column, corresponding to the exchange rate of GBP in AUD. You can call the column ``GBP in AUD``.\n",
    "\n",
    "4. Plot the new column as a line plot.\n",
    "\n",
    "## Task 3 - Extension (Optional)\n",
    "\n",
    "#### Is advertising effective?\n",
    "\n",
    "The advertising team wants to know whether customers that are exposed to ads spend more or less than customers who find the site organically.\n",
    "\n",
    "The advertising team has surveyed the customers from the original dataset and asked whether they:\n",
    "1. Clicked through on an ad\n",
    "2. Saw a physical ad\n",
    "3. Had no ad interactions\n",
    "\n",
    "They have provided the data to you in the ``AdExposure.csv`` file. The groups are numbered 0,1,2 respectively from the aforementioned list of options. They also updated the ``DirectMarketing.csv`` file to include customer ids and gave you the file Use ``DirectMarketingWIDs.csv``.\n",
    "\n",
    "Use the customer_id to merge the DirectMarketing and AdExposure data. Then use aggregation to find the average customer spend in these three groups.\n",
    "\n",
    "*Please note that the data is randomly generated and does not reflect the real world impact of advertising campaigns*"
   ]
  },
  {
   "cell_type": "code",
   "execution_count": null,
   "metadata": {
    "collapsed": true
   },
   "outputs": [],
   "source": []
  }
 ],
 "metadata": {
  "celltoolbar": "Raw Cell Format",
  "kernelspec": {
   "display_name": "Python 3",
   "language": "python",
   "name": "python3"
  },
  "language_info": {
   "codemirror_mode": {
    "name": "ipython",
    "version": 3
   },
   "file_extension": ".py",
   "mimetype": "text/x-python",
   "name": "python",
   "nbconvert_exporter": "python",
   "pygments_lexer": "ipython3",
   "version": "3.6.8"
  }
 },
 "nbformat": 4,
 "nbformat_minor": 2
}
