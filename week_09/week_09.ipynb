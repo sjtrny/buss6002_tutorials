{
 "cells": [
  {
   "cell_type": "markdown",
   "metadata": {},
   "source": [
    "<center><h1>BUSS6002 - Data Science in Business</h1></center>\n",
    "\n",
    "#### Pre-Tutorial Checklist\n",
    "\n",
    "1. Complete Tasks 1 and 2 from week 7\n",
    "2. Read “Polynomial Regression”\n",
    "\n",
    "\n",
    "# Tutorial 9 - Model Selection\n",
    "\n",
    "## Polynomial Regression (Reminder)\n",
    "\n",
    "In week 6 we saw how to build a linear regression model, which in the case of a multiple linear regression with two features takes the form:\n",
    "\n",
    "$$ y = \\beta_0 + \\beta_1 x_1 + \\beta_2 x_2 $$\n",
    "\n",
    "As the name suggests, these algorithms are very good at modeling linear functions, that is functions where each feature is multiplied by a constant weight $\\beta$. One downside of these models is that any nonlinearities in the relationship between features and target might be missed. Nonlinearities are terms in our model function where feature variables are multiplied together (e.g. $\\beta_{i} x_1 x_2$), or where a feature is raised to a power (e.g. $\\beta_{i} x_1^2$). A polynomial of order 3 is a polynomial where the highest power is 3, e.g:\n",
    "\n",
    "$$y = \\beta_0 + \\beta_1 x_1 + \\beta_{2} x_1^2 + \\beta_{3} x_1^3$$\n",
    "\n",
    "We can easily account for nonlinearities in our model by creating new features which multiply two feature columns together (e.g. $x_3 = x_1x_2$) or raise a feature column to a power (e.g. $x_3 = x_1^2$). This allows us to model any multivariate polynomial function using the Ordinary Least Squares method.\n",
    "\n",
    "### Polynomial Regression Example\n",
    "\n",
    "Let's create a simple dataframe to demonstrate polynomial regression."
   ]
  },
  {
   "cell_type": "code",
   "execution_count": 1,
   "metadata": {},
   "outputs": [
    {
     "data": {
      "text/html": [
       "<div>\n",
       "<style scoped>\n",
       "    .dataframe tbody tr th:only-of-type {\n",
       "        vertical-align: middle;\n",
       "    }\n",
       "\n",
       "    .dataframe tbody tr th {\n",
       "        vertical-align: top;\n",
       "    }\n",
       "\n",
       "    .dataframe thead th {\n",
       "        text-align: right;\n",
       "    }\n",
       "</style>\n",
       "<table border=\"1\" class=\"dataframe\">\n",
       "  <thead>\n",
       "    <tr style=\"text-align: right;\">\n",
       "      <th></th>\n",
       "      <th>Sqft</th>\n",
       "      <th>Price</th>\n",
       "    </tr>\n",
       "  </thead>\n",
       "  <tbody>\n",
       "    <tr>\n",
       "      <td>0</td>\n",
       "      <td>1200</td>\n",
       "      <td>125000</td>\n",
       "    </tr>\n",
       "    <tr>\n",
       "      <td>1</td>\n",
       "      <td>1350</td>\n",
       "      <td>160000</td>\n",
       "    </tr>\n",
       "    <tr>\n",
       "      <td>2</td>\n",
       "      <td>1050</td>\n",
       "      <td>95000</td>\n",
       "    </tr>\n",
       "  </tbody>\n",
       "</table>\n",
       "</div>"
      ],
      "text/plain": [
       "   Sqft   Price\n",
       "0  1200  125000\n",
       "1  1350  160000\n",
       "2  1050   95000"
      ]
     },
     "execution_count": 1,
     "metadata": {},
     "output_type": "execute_result"
    }
   ],
   "source": [
    "import pandas as pd\n",
    "\n",
    "df = pd.DataFrame({'Sqft': [1200,1350,1050], 'Price': [125000,160000,95000]})\n",
    "\n",
    "df.head()"
   ]
  },
  {
   "cell_type": "markdown",
   "metadata": {},
   "source": [
    "Now say we want to create a polynomial model of degree 2 for predicting house prices using Sqft. The model looks like:\n",
    "\n",
    "$$y = \\beta_0 + \\beta_1 x_1 + \\beta_{2} x_1^2$$\n",
    "\n",
    "Where x_1 represents the values in the `Sqft` column. Creating the $x_1^2$ column is straightforward:"
   ]
  },
  {
   "cell_type": "code",
   "execution_count": 2,
   "metadata": {},
   "outputs": [
    {
     "data": {
      "text/html": [
       "<div>\n",
       "<style scoped>\n",
       "    .dataframe tbody tr th:only-of-type {\n",
       "        vertical-align: middle;\n",
       "    }\n",
       "\n",
       "    .dataframe tbody tr th {\n",
       "        vertical-align: top;\n",
       "    }\n",
       "\n",
       "    .dataframe thead th {\n",
       "        text-align: right;\n",
       "    }\n",
       "</style>\n",
       "<table border=\"1\" class=\"dataframe\">\n",
       "  <thead>\n",
       "    <tr style=\"text-align: right;\">\n",
       "      <th></th>\n",
       "      <th>Sqft</th>\n",
       "      <th>Price</th>\n",
       "      <th>Sqft^2</th>\n",
       "    </tr>\n",
       "  </thead>\n",
       "  <tbody>\n",
       "    <tr>\n",
       "      <td>0</td>\n",
       "      <td>1200</td>\n",
       "      <td>125000</td>\n",
       "      <td>1440000</td>\n",
       "    </tr>\n",
       "    <tr>\n",
       "      <td>1</td>\n",
       "      <td>1350</td>\n",
       "      <td>160000</td>\n",
       "      <td>1822500</td>\n",
       "    </tr>\n",
       "    <tr>\n",
       "      <td>2</td>\n",
       "      <td>1050</td>\n",
       "      <td>95000</td>\n",
       "      <td>1102500</td>\n",
       "    </tr>\n",
       "  </tbody>\n",
       "</table>\n",
       "</div>"
      ],
      "text/plain": [
       "   Sqft   Price   Sqft^2\n",
       "0  1200  125000  1440000\n",
       "1  1350  160000  1822500\n",
       "2  1050   95000  1102500"
      ]
     },
     "execution_count": 2,
     "metadata": {},
     "output_type": "execute_result"
    }
   ],
   "source": [
    "df['Sqft^2'] = df['Sqft']**2\n",
    "\n",
    "df.head()"
   ]
  },
  {
   "cell_type": "markdown",
   "metadata": {},
   "source": [
    "Now if we use these features to create a multivariate regression model, as in week 6, our model will include a Sqft$^2$ term and a corresponding weight $\\beta_{11}$."
   ]
  },
  {
   "cell_type": "markdown",
   "metadata": {},
   "source": [
    "## Training and Test Sets\n",
    "\n",
    "To select the \"best\" model for a machine learning task we need to evaluate the performance of each model. The first step in this process is seperating the data into training and test sets. Usually we take 70% of our collected data as the training set and the remaining 30% as our test set.\n",
    "\n",
    "**Training Set**: This set is used to train our models on. In other words we estimate the parameters for the models using this data.\n",
    "\n",
    "**Test Set**: This set is used ONLY to estimate the future predictive performance of the chosen model. The test set should never be used for training in any way whatsoever. It needs to remain completely independant and unseen by the models.\n",
    "\n",
    "The data in the test set must be distributed the same as the training set and also the same as future data. You might get unlucky in splitting your data and select lots of outliers. This can be addressed by collecting more data.\n",
    "\n",
    "<img src=\"img/train_test.png\" width=500>\n",
    "\n",
    "#### Train/Test Splitting in Python\n",
    "\n",
    "scikit learn has a train_test_split function that will split the data into random train and test sets\n",
    "\n",
    "<div style=\"margin-bottom: 0px;\"><img width=20 style=\"display: block; float: left;  margin-right: 20px;\" src=\"img/docs.png\"> <h3 style=\"padding-top: 0px;\">Documentation - train_test_split</h3></div>\n",
    "https://scikit-learn.org/stable/modules/generated/sklearn.model_selection.train_test_split.html"
   ]
  },
  {
   "cell_type": "code",
   "execution_count": 3,
   "metadata": {
    "scrolled": true
   },
   "outputs": [],
   "source": [
    "import numpy as np\n",
    "import pandas as pd\n",
    "from sklearn.model_selection import train_test_split\n",
    "\n",
    "house_prices = pd.read_excel(\"BatonRouge.xls\")\n",
    "\n",
    "target_y = house_prices['Price']\n",
    "features_x = house_prices.loc[:, house_prices.columns != 'Price']\n",
    "\n",
    "X_train, X_test, Y_train, Y_test = train_test_split(features_x, target_y, test_size=0.3)"
   ]
  },
  {
   "cell_type": "markdown",
   "metadata": {},
   "source": [
    "## Evaluation Using the Training Set\n",
    "\n",
    "Since the Test set is off limits for the purposes of training and evaluation we must use the remaining data, which is the training set.\n",
    "\n",
    "### Holdout\n",
    "\n",
    "The Holdout method simply reserves a portion of the training data as a Validation Set. The models are trained on the training set and the model performance is compared on the Validation Set.\n",
    "\n",
    "<img src=\"img/holdout.png\" width=500>\n",
    "\n",
    "### Cross Validation\n",
    "\n",
    "The Holdout method is limited by the fact that the validation set is quite small. This means the validation set has a low chance of reflecting the full distribution of future data.\n",
    "\n",
    "To resolve this we can use all the training data as validation data. We successively partition the training set into different training and validation pairs. Performance is evaluated on all pairs and a sumamry statistic of accuracy (mean or median) is calculated.\n",
    "\n",
    "Cross Validation is an excellent estimator of \"out of sample\" performance. There are many types of Cross Validation such as \"leave-p-out\", \"leave-one-out\" and \"k-fold\". We will focus on k-fold cross validation. K refers to the number of splits of data. In the figure below there are 5 folds.\n",
    "\n",
    "<img src=\"img/cross_val.png\" width=800>\n",
    "\n",
    "\n",
    "## Tuning Hyper Parameters\n",
    "\n",
    "Some models/algorithms will have additional parameters called hyper parameters. Hyper parameters are set before the parameter estimation process. Some common examples are regularisation parameters (control the magnitude of parameter values), learning rate or step size (gradient descent) or the number of neurons in a layer of a neural network.\n",
    "\n",
    "The optimal value of these parameters is hard to guess so you should always use cross validation to find the best parameter values. \n",
    "\n",
    "## Process\n",
    "\n",
    "1. For each model, tune hyper parameters using cross validation on training set\n",
    "2. Perform cross validation on training set using each model to see which has the best predictive performance on average\n",
    "3. Estimate selected model performance using test set\n",
    "\n",
    "For step 1 the process is independant for each model. For step 2 we must use the same process i.e. validation or cross validation splits so that we conduct a fair test.\n",
    "\n",
    "Cross Validation mirrors test performance (out of sample generalisation) so we expect that the model that performs best in CV will perform best in the test set. From the test set we get an unbiased estimate of the performance on future data.\n",
    "\n",
    "<img src=\"img/model_selection.png\" width=900>\n",
    "\n",
    "\n",
    "## Why is Validation Required?\n",
    "\n",
    "Why is a Validation set required?\n",
    "\n",
    "1. Selecting a model based on training set performance leads to a model that does not generalise to unseen data. In other words it leads to overfitting.\n",
    "2. Using the test set as a validation set means that we no longer have an independant set to evaluate out of sample performance. The test set becomes tainted.\n",
    "\n",
    "### Example\n",
    "\n",
    "Lets create a synthetic dataset with a training and a single validation set to see which set we should used to select our model.\n",
    "\n",
    "The data comes from the following function\n",
    "\n",
    "$f(x) = \\beta_0 + \\beta_1 x + \\beta_2 x^2 $\n",
    "\n",
    "We will evaluate the following models\n",
    "\n",
    "$f(x) = \\beta_0 + \\beta_1 x $\n",
    "\n",
    "$f(x) = \\beta_0 + \\beta_1 x + \\beta_2 x^2 $\n",
    "\n",
    "$f(x) = \\beta_0 + \\beta_1 x + \\beta_2 x^2 $\n",
    "\n",
    "Up to\n",
    "\n",
    "$f(x) = \\beta_0 + \\beta_1 x + \\beta_2 x^2 + \\dots + \\beta_9 x^9 $\n",
    "\n",
    "Theoretically a high order polynomial can represent any function. **So the highest order should be the best model right? NO!**"
   ]
  },
  {
   "cell_type": "code",
   "execution_count": 4,
   "metadata": {},
   "outputs": [],
   "source": [
    "%matplotlib inline\n",
    "import numpy as np\n",
    "import matplotlib.pyplot as plt\n",
    "\n",
    "# Initialise RNG, so we get same result everytime\n",
    "np.random.seed(0)\n",
    "\n",
    "# Number of training points\n",
    "m = 50\n",
    "\n",
    "x = np.linspace(-1, 1.0, m)\n",
    "\n",
    "def calc_polynomial(x, beta0 = 4, beta1 = 1.5, beta2 = 3.2, beta3 = 3):\n",
    "    return beta0 + beta1 * x + beta2 * np.power(x,2) + beta3 * np.power(x,3)\n",
    " \n",
    "# f values from 3rd order polynomial\n",
    "f = calc_polynomial(x)"
   ]
  },
  {
   "cell_type": "markdown",
   "metadata": {},
   "source": [
    "$f$ contains data perfectly sampled along the 2nd order polynomial. In the real world we usually observe data that is noisy. So we will add a small amount of Gaussian noise to the data"
   ]
  },
  {
   "cell_type": "code",
   "execution_count": 5,
   "metadata": {},
   "outputs": [],
   "source": [
    "# Generate noisy sample from population\n",
    "sigma2 = 0.3\n",
    "\n",
    "x_train = np.random.uniform(-1, 1, m)\n",
    "y_train = calc_polynomial(x_train) + np.random.normal(0, np.sqrt(sigma2), m)\n",
    "\n",
    "x_validation = np.random.uniform(-1, 1, m)\n",
    "y_validation = calc_polynomial(x_validation) + np.random.normal(0, np.sqrt(sigma2), m)"
   ]
  },
  {
   "cell_type": "code",
   "execution_count": 6,
   "metadata": {},
   "outputs": [
    {
     "data": {
      "image/png": "[encoded data removed]",
      "text/plain": [
       "<Figure size 432x288 with 1 Axes>"
      ]
     },
     "metadata": {},
     "output_type": "display_data"
    }
   ],
   "source": [
    "fig1 = plt.figure()\n",
    "\n",
    "plt.plot(x, f, label = \"f (Ground Truth)\")\n",
    "plt.scatter(x_train, y_train, label = \"y (Observed Training Points)\", color = \"red\")\n",
    "plt.scatter(x_validation, y_validation, label = \"y (Observed Validation Points)\", color = \"orange\", alpha = 0.5)\n",
    "\n",
    "plt.xlabel(\"Predictor/Feature Value\")\n",
    "plt.ylabel(\"Target Value\")\n",
    "plt.title(\"Underlying Function vs Observations\")\n",
    "plt.legend(loc=\"upper left\")\n",
    "\n",
    "plt.show()"
   ]
  },
  {
   "cell_type": "markdown",
   "metadata": {},
   "source": [
    "<div style=\"margin-bottom: 0px;\"><img width=20 style=\"display: block; float: left;  margin-right: 20px;\" src=\"img/docs.png\"> <h3 style=\"padding-top: 0px;\">Documentation - PolynomialFeatures</h3></div>\n",
    "https://scikit-learn.org/stable/modules/generated/sklearn.preprocessing.polynomialfeatures.html"
   ]
  },
  {
   "cell_type": "code",
   "execution_count": 7,
   "metadata": {},
   "outputs": [],
   "source": [
    "from sklearn.preprocessing import PolynomialFeatures\n",
    "from sklearn.metrics import mean_squared_error\n",
    "from sklearn.linear_model import LinearRegression\n",
    "\n",
    "max_deg = 20\n",
    "\n",
    "train_error = list()\n",
    "validation_error = list()\n",
    "\n",
    "for i in range(1, max_deg):\n",
    "    \n",
    "    poly_transformer = PolynomialFeatures(i) \n",
    "    poly_x_train = poly_transformer.fit_transform(x_train.reshape(-1,1))\n",
    "    poly_x_valid = poly_transformer.fit_transform(x_validation.reshape(-1,1))\n",
    "    \n",
    "    # Create the linear regression object\n",
    "    lin_reg = LinearRegression()\n",
    "\n",
    "    # Estimate coefficients\n",
    "    lin_reg.fit(poly_x_train, y_train)\n",
    "    \n",
    "    # Calculate predictions for training set\n",
    "    y_pred_train = lin_reg.predict(poly_x_train)\n",
    "    mse_train = mean_squared_error(y_train, y_pred_train)\n",
    "    train_error.append(mse_train)\n",
    "    \n",
    "    # Calculate predictions for validation set\n",
    "    y_pred_validation = lin_reg.predict(poly_x_valid)\n",
    "    mse_valid = mean_squared_error(y_validation, y_pred_validation)\n",
    "    validation_error.append(mse_valid)"
   ]
  },
  {
   "cell_type": "code",
   "execution_count": 8,
   "metadata": {},
   "outputs": [
    {
     "data": {
      "image/png": "[encoded data removed]",
      "text/plain": [
       "<Figure size 720x432 with 1 Axes>"
      ]
     },
     "metadata": {},
     "output_type": "display_data"
    }
   ],
   "source": [
    "# Plot training and validation error\n",
    "fig4 = plt.figure(figsize = (10, 6))\n",
    "\n",
    "plt.plot(np.arange(1, max_deg, 1), train_error, label = \"Train Error\")\n",
    "plt.plot(np.arange(1, max_deg, 1), validation_error, label = \"Validation Error\")\n",
    "\n",
    "plt.title('Training Error vs Polynomial Degree')\n",
    "plt.xlabel(\"Polynomial Degree\")\n",
    "plt.ylabel(\"Training Error\")\n",
    "\n",
    "plt.xticks(np.arange(1, max_deg))\n",
    "\n",
    "plt.legend()\n",
    "plt.grid()\n",
    "\n",
    "plt.show()"
   ]
  },
  {
   "cell_type": "markdown",
   "metadata": {},
   "source": [
    "<div style=\"margin-bottom: 30px;\"><img width=48 style=\"display: block; float: left;  margin-right: 20px;\" src=\"img/question-mark-button.png\"> <h3 style=\"padding-top: 15px;\">Exercise  1 - Learning Curve</h3></div>\n",
    "\n",
    "1. Which model would we select based on the training error?\n",
    "2. Which model would we select based on validation error?\n",
    "3. Of your chosen models (best training, best validation), which model is expected to generalise better on new data?\n",
    "4. What conclusion can you draw from this?"
   ]
  },
  {
   "cell_type": "markdown",
   "metadata": {
    "collapsed": true
   },
   "source": [
    "## Example: Using CV to Tune Hyperparameters\n",
    "\n",
    "Using the earlier dataset we will build another regression model: KNN Regression.\n",
    "\n",
    "KNN Regression predicts the target value by averaging the $k$ nearest training observations. Therefore $k$ is a hyper parameter that we should optimise.\n",
    "\n",
    "#### Manual Hyperparameter Search"
   ]
  },
  {
   "cell_type": "code",
   "execution_count": 21,
   "metadata": {},
   "outputs": [
    {
     "name": "stdout",
     "output_type": "stream",
     "text": [
      "Best value of k: 2\n"
     ]
    }
   ],
   "source": [
    "# Manual K-Folds\n",
    "from sklearn.neighbors import KNeighborsRegressor\n",
    "from sklearn.model_selection import cross_val_score\n",
    "\n",
    "cv_scores = []\n",
    "\n",
    "k_values = np.arange(1,11)\n",
    "\n",
    "for k in k_values:\n",
    "    knn = KNeighborsRegressor(n_neighbors = k)\n",
    "\n",
    "    # This returns a \"greater is better\" version of MSE\n",
    "    # http://scikit-learn.org/stable/modules/generated/sklearn.metrics.make_scorer.html\n",
    "    scores = cross_val_score(knn, x_train.reshape(-1, 1), y_train, cv = 3)\n",
    "    \n",
    "    # Get the mean of the scores from the 3 folds\n",
    "    cv_score = np.mean(scores)\n",
    "    \n",
    "    cv_scores.append(cv_score)\n",
    "    \n",
    "print(\"Best value of k: {0}\".format(k_values[np.argmax(cv_scores)]))"
   ]
  },
  {
   "cell_type": "code",
   "execution_count": 23,
   "metadata": {},
   "outputs": [
    {
     "data": {
      "image/png": "[encoded data removed]",
      "text/plain": [
       "<Figure size 432x288 with 1 Axes>"
      ]
     },
     "metadata": {},
     "output_type": "display_data"
    }
   ],
   "source": [
    "fig = plt.figure()\n",
    "\n",
    "plt.plot(k_values, cv_scores)\n",
    "\n",
    "plt.xlabel(\"K\")\n",
    "plt.ylabel(\"Error (Higher is better)\")\n",
    "\n",
    "plt.show()"
   ]
  },
  {
   "cell_type": "markdown",
   "metadata": {},
   "source": [
    "#### Grid Search"
   ]
  },
  {
   "cell_type": "code",
   "execution_count": 24,
   "metadata": {},
   "outputs": [
    {
     "name": "stdout",
     "output_type": "stream",
     "text": [
      "Grid Search CV Complete!\n"
     ]
    }
   ],
   "source": [
    "# GridSearchCV\n",
    "from sklearn.model_selection import GridSearchCV\n",
    "\n",
    "# Set up the grid of parameters to search (in this case its 1 dimensional)\n",
    "param_grid = {\n",
    "    'n_neighbors': np.arange(1,11),\n",
    "}\n",
    "\n",
    "model = KNeighborsRegressor()\n",
    "\n",
    "# Create the grid search object\n",
    "grid_cv_obj = GridSearchCV(model, param_grid, return_train_score=True, cv = 5)\n",
    "\n",
    "# Do the grid search\n",
    "grid_cv_obj.fit(x_train.reshape(-1, 1), y_train)\n",
    "\n",
    "print(\"Grid Search CV Complete!\")"
   ]
  },
  {
   "cell_type": "code",
   "execution_count": 25,
   "metadata": {},
   "outputs": [
    {
     "name": "stdout",
     "output_type": "stream",
     "text": [
      "KNeighborsRegressor(algorithm='auto', leaf_size=30, metric='minkowski',\n",
      "                    metric_params=None, n_jobs=None, n_neighbors=2, p=2,\n",
      "                    weights='uniform')\n"
     ]
    }
   ],
   "source": [
    "# Get the best model\n",
    "best_model = grid_cv_obj.best_estimator_\n",
    "\n",
    "# Print the best model\n",
    "print(best_model)"
   ]
  },
  {
   "cell_type": "code",
   "execution_count": 26,
   "metadata": {},
   "outputs": [
    {
     "name": "stdout",
     "output_type": "stream",
     "text": [
      "{'n_neighbors': 2}\n"
     ]
    }
   ],
   "source": [
    "# Print the best params\n",
    "print(grid_cv_obj.best_params_)"
   ]
  },
  {
   "cell_type": "code",
   "execution_count": 27,
   "metadata": {},
   "outputs": [
    {
     "data": {
      "text/html": [
       "<div>\n",
       "<style scoped>\n",
       "    .dataframe tbody tr th:only-of-type {\n",
       "        vertical-align: middle;\n",
       "    }\n",
       "\n",
       "    .dataframe tbody tr th {\n",
       "        vertical-align: top;\n",
       "    }\n",
       "\n",
       "    .dataframe thead th {\n",
       "        text-align: right;\n",
       "    }\n",
       "</style>\n",
       "<table border=\"1\" class=\"dataframe\">\n",
       "  <thead>\n",
       "    <tr style=\"text-align: right;\">\n",
       "      <th></th>\n",
       "      <th>mean_fit_time</th>\n",
       "      <th>std_fit_time</th>\n",
       "      <th>mean_score_time</th>\n",
       "      <th>std_score_time</th>\n",
       "      <th>param_n_neighbors</th>\n",
       "      <th>params</th>\n",
       "      <th>split0_test_score</th>\n",
       "      <th>split1_test_score</th>\n",
       "      <th>split2_test_score</th>\n",
       "      <th>split3_test_score</th>\n",
       "      <th>...</th>\n",
       "      <th>mean_test_score</th>\n",
       "      <th>std_test_score</th>\n",
       "      <th>rank_test_score</th>\n",
       "      <th>split0_train_score</th>\n",
       "      <th>split1_train_score</th>\n",
       "      <th>split2_train_score</th>\n",
       "      <th>split3_train_score</th>\n",
       "      <th>split4_train_score</th>\n",
       "      <th>mean_train_score</th>\n",
       "      <th>std_train_score</th>\n",
       "    </tr>\n",
       "  </thead>\n",
       "  <tbody>\n",
       "    <tr>\n",
       "      <td>0</td>\n",
       "      <td>0.000241</td>\n",
       "      <td>0.000051</td>\n",
       "      <td>0.000594</td>\n",
       "      <td>0.000115</td>\n",
       "      <td>1</td>\n",
       "      <td>{'n_neighbors': 1}</td>\n",
       "      <td>0.945760</td>\n",
       "      <td>0.896010</td>\n",
       "      <td>0.910837</td>\n",
       "      <td>0.928709</td>\n",
       "      <td>...</td>\n",
       "      <td>0.800549</td>\n",
       "      <td>0.240143</td>\n",
       "      <td>9</td>\n",
       "      <td>1.000000</td>\n",
       "      <td>1.000000</td>\n",
       "      <td>1.000000</td>\n",
       "      <td>1.000000</td>\n",
       "      <td>1.000000</td>\n",
       "      <td>1.000000</td>\n",
       "      <td>0.000000</td>\n",
       "    </tr>\n",
       "    <tr>\n",
       "      <td>1</td>\n",
       "      <td>0.000183</td>\n",
       "      <td>0.000003</td>\n",
       "      <td>0.000487</td>\n",
       "      <td>0.000007</td>\n",
       "      <td>2</td>\n",
       "      <td>{'n_neighbors': 2}</td>\n",
       "      <td>0.963866</td>\n",
       "      <td>0.927800</td>\n",
       "      <td>0.930220</td>\n",
       "      <td>0.891689</td>\n",
       "      <td>...</td>\n",
       "      <td>0.865100</td>\n",
       "      <td>0.128632</td>\n",
       "      <td>1</td>\n",
       "      <td>0.967237</td>\n",
       "      <td>0.965592</td>\n",
       "      <td>0.978455</td>\n",
       "      <td>0.970519</td>\n",
       "      <td>0.984990</td>\n",
       "      <td>0.973359</td>\n",
       "      <td>0.007309</td>\n",
       "    </tr>\n",
       "    <tr>\n",
       "      <td>2</td>\n",
       "      <td>0.000197</td>\n",
       "      <td>0.000019</td>\n",
       "      <td>0.000499</td>\n",
       "      <td>0.000013</td>\n",
       "      <td>3</td>\n",
       "      <td>{'n_neighbors': 3}</td>\n",
       "      <td>0.952795</td>\n",
       "      <td>0.944617</td>\n",
       "      <td>0.935083</td>\n",
       "      <td>0.889370</td>\n",
       "      <td>...</td>\n",
       "      <td>0.862181</td>\n",
       "      <td>0.138324</td>\n",
       "      <td>2</td>\n",
       "      <td>0.959659</td>\n",
       "      <td>0.958393</td>\n",
       "      <td>0.963310</td>\n",
       "      <td>0.967538</td>\n",
       "      <td>0.978551</td>\n",
       "      <td>0.965490</td>\n",
       "      <td>0.007265</td>\n",
       "    </tr>\n",
       "    <tr>\n",
       "      <td>3</td>\n",
       "      <td>0.000198</td>\n",
       "      <td>0.000022</td>\n",
       "      <td>0.000520</td>\n",
       "      <td>0.000055</td>\n",
       "      <td>4</td>\n",
       "      <td>{'n_neighbors': 4}</td>\n",
       "      <td>0.938433</td>\n",
       "      <td>0.966842</td>\n",
       "      <td>0.924874</td>\n",
       "      <td>0.886193</td>\n",
       "      <td>...</td>\n",
       "      <td>0.839076</td>\n",
       "      <td>0.181882</td>\n",
       "      <td>4</td>\n",
       "      <td>0.954663</td>\n",
       "      <td>0.946369</td>\n",
       "      <td>0.953357</td>\n",
       "      <td>0.960792</td>\n",
       "      <td>0.968826</td>\n",
       "      <td>0.956801</td>\n",
       "      <td>0.007560</td>\n",
       "    </tr>\n",
       "    <tr>\n",
       "      <td>4</td>\n",
       "      <td>0.000184</td>\n",
       "      <td>0.000008</td>\n",
       "      <td>0.000486</td>\n",
       "      <td>0.000008</td>\n",
       "      <td>5</td>\n",
       "      <td>{'n_neighbors': 5}</td>\n",
       "      <td>0.930500</td>\n",
       "      <td>0.981964</td>\n",
       "      <td>0.905384</td>\n",
       "      <td>0.909697</td>\n",
       "      <td>...</td>\n",
       "      <td>0.844271</td>\n",
       "      <td>0.177332</td>\n",
       "      <td>3</td>\n",
       "      <td>0.947170</td>\n",
       "      <td>0.936398</td>\n",
       "      <td>0.940139</td>\n",
       "      <td>0.959811</td>\n",
       "      <td>0.968890</td>\n",
       "      <td>0.950482</td>\n",
       "      <td>0.012184</td>\n",
       "    </tr>\n",
       "  </tbody>\n",
       "</table>\n",
       "<p>5 rows × 21 columns</p>\n",
       "</div>"
      ],
      "text/plain": [
       "   mean_fit_time  std_fit_time  mean_score_time  std_score_time  \\\n",
       "0       0.000241      0.000051         0.000594        0.000115   \n",
       "1       0.000183      0.000003         0.000487        0.000007   \n",
       "2       0.000197      0.000019         0.000499        0.000013   \n",
       "3       0.000198      0.000022         0.000520        0.000055   \n",
       "4       0.000184      0.000008         0.000486        0.000008   \n",
       "\n",
       "  param_n_neighbors              params  split0_test_score  split1_test_score  \\\n",
       "0                 1  {'n_neighbors': 1}           0.945760           0.896010   \n",
       "1                 2  {'n_neighbors': 2}           0.963866           0.927800   \n",
       "2                 3  {'n_neighbors': 3}           0.952795           0.944617   \n",
       "3                 4  {'n_neighbors': 4}           0.938433           0.966842   \n",
       "4                 5  {'n_neighbors': 5}           0.930500           0.981964   \n",
       "\n",
       "   split2_test_score  split3_test_score  ...  mean_test_score  std_test_score  \\\n",
       "0           0.910837           0.928709  ...         0.800549        0.240143   \n",
       "1           0.930220           0.891689  ...         0.865100        0.128632   \n",
       "2           0.935083           0.889370  ...         0.862181        0.138324   \n",
       "3           0.924874           0.886193  ...         0.839076        0.181882   \n",
       "4           0.905384           0.909697  ...         0.844271        0.177332   \n",
       "\n",
       "   rank_test_score  split0_train_score  split1_train_score  \\\n",
       "0                9            1.000000            1.000000   \n",
       "1                1            0.967237            0.965592   \n",
       "2                2            0.959659            0.958393   \n",
       "3                4            0.954663            0.946369   \n",
       "4                3            0.947170            0.936398   \n",
       "\n",
       "   split2_train_score  split3_train_score  split4_train_score  \\\n",
       "0            1.000000            1.000000            1.000000   \n",
       "1            0.978455            0.970519            0.984990   \n",
       "2            0.963310            0.967538            0.978551   \n",
       "3            0.953357            0.960792            0.968826   \n",
       "4            0.940139            0.959811            0.968890   \n",
       "\n",
       "   mean_train_score  std_train_score  \n",
       "0          1.000000         0.000000  \n",
       "1          0.973359         0.007309  \n",
       "2          0.965490         0.007265  \n",
       "3          0.956801         0.007560  \n",
       "4          0.950482         0.012184  \n",
       "\n",
       "[5 rows x 21 columns]"
      ]
     },
     "execution_count": 27,
     "metadata": {},
     "output_type": "execute_result"
    }
   ],
   "source": [
    "import pandas as pd\n",
    "\n",
    "results = pd.DataFrame(grid_cv_obj.cv_results_)\n",
    "\n",
    "results.head()"
   ]
  },
  {
   "cell_type": "markdown",
   "metadata": {},
   "source": [
    "#### Understanding Grid Search\n",
    "\n",
    "In this example we only had one parameter so the grid is just a 1 dimensonal list. GridSearchCV performs cross validation for each value of n_neighbours and returns the best value of n_neighbours.\n",
    "\n",
    "We can use the ParameterGrid object in sklearn to list out all combinations of values that will be checked. In this case there are only 10."
   ]
  },
  {
   "cell_type": "code",
   "execution_count": 28,
   "metadata": {},
   "outputs": [
    {
     "data": {
      "text/html": [
       "<div>\n",
       "<style scoped>\n",
       "    .dataframe tbody tr th:only-of-type {\n",
       "        vertical-align: middle;\n",
       "    }\n",
       "\n",
       "    .dataframe tbody tr th {\n",
       "        vertical-align: top;\n",
       "    }\n",
       "\n",
       "    .dataframe thead th {\n",
       "        text-align: right;\n",
       "    }\n",
       "</style>\n",
       "<table border=\"1\" class=\"dataframe\">\n",
       "  <thead>\n",
       "    <tr style=\"text-align: right;\">\n",
       "      <th></th>\n",
       "      <th>n_neighbors</th>\n",
       "    </tr>\n",
       "  </thead>\n",
       "  <tbody>\n",
       "    <tr>\n",
       "      <td>0</td>\n",
       "      <td>1</td>\n",
       "    </tr>\n",
       "    <tr>\n",
       "      <td>1</td>\n",
       "      <td>2</td>\n",
       "    </tr>\n",
       "    <tr>\n",
       "      <td>2</td>\n",
       "      <td>3</td>\n",
       "    </tr>\n",
       "    <tr>\n",
       "      <td>3</td>\n",
       "      <td>4</td>\n",
       "    </tr>\n",
       "    <tr>\n",
       "      <td>4</td>\n",
       "      <td>5</td>\n",
       "    </tr>\n",
       "    <tr>\n",
       "      <td>5</td>\n",
       "      <td>6</td>\n",
       "    </tr>\n",
       "    <tr>\n",
       "      <td>6</td>\n",
       "      <td>7</td>\n",
       "    </tr>\n",
       "    <tr>\n",
       "      <td>7</td>\n",
       "      <td>8</td>\n",
       "    </tr>\n",
       "    <tr>\n",
       "      <td>8</td>\n",
       "      <td>9</td>\n",
       "    </tr>\n",
       "    <tr>\n",
       "      <td>9</td>\n",
       "      <td>10</td>\n",
       "    </tr>\n",
       "  </tbody>\n",
       "</table>\n",
       "</div>"
      ],
      "text/plain": [
       "   n_neighbors\n",
       "0            1\n",
       "1            2\n",
       "2            3\n",
       "3            4\n",
       "4            5\n",
       "5            6\n",
       "6            7\n",
       "7            8\n",
       "8            9\n",
       "9           10"
      ]
     },
     "execution_count": 28,
     "metadata": {},
     "output_type": "execute_result"
    }
   ],
   "source": [
    "from sklearn.model_selection import ParameterGrid\n",
    "\n",
    "grid_df = pd.DataFrame(list(ParameterGrid(param_grid)))\n",
    "                       \n",
    "grid_df"
   ]
  },
  {
   "cell_type": "markdown",
   "metadata": {},
   "source": [
    "If we add another parameter then the number of parameter combinations that we have to search increases dramatically. We perform cross validation for each row in the parameter grid. Here I have shown the first 13 rows from 1000 ($10 \\times 10 \\times 10$) total rows."
   ]
  },
  {
   "cell_type": "code",
   "execution_count": 29,
   "metadata": {},
   "outputs": [
    {
     "data": {
      "text/html": [
       "<div>\n",
       "<style scoped>\n",
       "    .dataframe tbody tr th:only-of-type {\n",
       "        vertical-align: middle;\n",
       "    }\n",
       "\n",
       "    .dataframe tbody tr th {\n",
       "        vertical-align: top;\n",
       "    }\n",
       "\n",
       "    .dataframe thead th {\n",
       "        text-align: right;\n",
       "    }\n",
       "</style>\n",
       "<table border=\"1\" class=\"dataframe\">\n",
       "  <thead>\n",
       "    <tr style=\"text-align: right;\">\n",
       "      <th></th>\n",
       "      <th>param_a</th>\n",
       "      <th>param_b</th>\n",
       "      <th>param_c</th>\n",
       "    </tr>\n",
       "  </thead>\n",
       "  <tbody>\n",
       "    <tr>\n",
       "      <td>0</td>\n",
       "      <td>1</td>\n",
       "      <td>100</td>\n",
       "      <td>-5</td>\n",
       "    </tr>\n",
       "    <tr>\n",
       "      <td>1</td>\n",
       "      <td>1</td>\n",
       "      <td>100</td>\n",
       "      <td>-4</td>\n",
       "    </tr>\n",
       "    <tr>\n",
       "      <td>2</td>\n",
       "      <td>1</td>\n",
       "      <td>100</td>\n",
       "      <td>-3</td>\n",
       "    </tr>\n",
       "    <tr>\n",
       "      <td>3</td>\n",
       "      <td>1</td>\n",
       "      <td>100</td>\n",
       "      <td>-2</td>\n",
       "    </tr>\n",
       "    <tr>\n",
       "      <td>4</td>\n",
       "      <td>1</td>\n",
       "      <td>100</td>\n",
       "      <td>-1</td>\n",
       "    </tr>\n",
       "    <tr>\n",
       "      <td>5</td>\n",
       "      <td>1</td>\n",
       "      <td>100</td>\n",
       "      <td>0</td>\n",
       "    </tr>\n",
       "    <tr>\n",
       "      <td>6</td>\n",
       "      <td>1</td>\n",
       "      <td>100</td>\n",
       "      <td>1</td>\n",
       "    </tr>\n",
       "    <tr>\n",
       "      <td>7</td>\n",
       "      <td>1</td>\n",
       "      <td>100</td>\n",
       "      <td>2</td>\n",
       "    </tr>\n",
       "    <tr>\n",
       "      <td>8</td>\n",
       "      <td>1</td>\n",
       "      <td>100</td>\n",
       "      <td>3</td>\n",
       "    </tr>\n",
       "    <tr>\n",
       "      <td>9</td>\n",
       "      <td>1</td>\n",
       "      <td>100</td>\n",
       "      <td>4</td>\n",
       "    </tr>\n",
       "    <tr>\n",
       "      <td>10</td>\n",
       "      <td>1</td>\n",
       "      <td>100</td>\n",
       "      <td>5</td>\n",
       "    </tr>\n",
       "    <tr>\n",
       "      <td>11</td>\n",
       "      <td>1</td>\n",
       "      <td>101</td>\n",
       "      <td>-5</td>\n",
       "    </tr>\n",
       "    <tr>\n",
       "      <td>12</td>\n",
       "      <td>1</td>\n",
       "      <td>101</td>\n",
       "      <td>-4</td>\n",
       "    </tr>\n",
       "  </tbody>\n",
       "</table>\n",
       "</div>"
      ],
      "text/plain": [
       "    param_a  param_b  param_c\n",
       "0         1      100       -5\n",
       "1         1      100       -4\n",
       "2         1      100       -3\n",
       "3         1      100       -2\n",
       "4         1      100       -1\n",
       "5         1      100        0\n",
       "6         1      100        1\n",
       "7         1      100        2\n",
       "8         1      100        3\n",
       "9         1      100        4\n",
       "10        1      100        5\n",
       "11        1      101       -5\n",
       "12        1      101       -4"
      ]
     },
     "execution_count": 29,
     "metadata": {},
     "output_type": "execute_result"
    }
   ],
   "source": [
    "from sklearn.model_selection import ParameterGrid\n",
    "\n",
    "param_grid = {\n",
    "    'param_a': np.arange(1,11),\n",
    "    'param_b': np.arange(100,111),\n",
    "    'param_c': np.arange(-5,6),\n",
    "}\n",
    "\n",
    "grid_df = pd.DataFrame(list(ParameterGrid(param_grid)))\n",
    "                       \n",
    "grid_df.head(13)"
   ]
  },
  {
   "cell_type": "markdown",
   "metadata": {},
   "source": [
    "## Example: Using CV to Compare Model Performance\n",
    "\n",
    "Lets compare the performance of our best polynomial model with that of the knn regressor.\n",
    "\n",
    "To ensure that each model sees the exact same K-Folds we need to store the K-Fold split in to a Python object and then share it to the cross_val_score function"
   ]
  },
  {
   "cell_type": "code",
   "execution_count": 17,
   "metadata": {},
   "outputs": [
    {
     "data": {
      "text/plain": [
       "KNeighborsRegressor(algorithm='auto', leaf_size=30, metric='minkowski',\n",
       "                    metric_params=None, n_jobs=None, n_neighbors=4, p=2,\n",
       "                    weights='uniform')"
      ]
     },
     "execution_count": 17,
     "metadata": {},
     "output_type": "execute_result"
    }
   ],
   "source": [
    "# Build poly2 model\n",
    "poly_transformer = PolynomialFeatures(2) \n",
    "poly_x = poly_transformer.fit_transform(np.reshape(x_train, (-1,1)))\n",
    "poly_reg = LinearRegression()\n",
    "poly_reg.fit(poly_x, y_train)\n",
    "    \n",
    "# Build knn model\n",
    "knn = KNeighborsRegressor(n_neighbors= 4)\n",
    "knn.fit(x_train.reshape(-1,1), y_train)"
   ]
  },
  {
   "cell_type": "code",
   "execution_count": 30,
   "metadata": {},
   "outputs": [],
   "source": [
    "from sklearn.model_selection import KFold\n",
    "\n",
    "# 3-Fold Cross Validation\n",
    "kf = KFold(3)\n",
    "\n",
    "poly_scores = cross_val_score(poly_reg, poly_x, y_train, cv = kf)\n",
    "poly_mean = np.mean(poly_scores)\n",
    "\n",
    "knn_scores = cross_val_score(knn, x_train.reshape(-1,1), y_train, cv = kf)\n",
    "knn_mean = np.mean(knn_scores)"
   ]
  },
  {
   "cell_type": "code",
   "execution_count": 31,
   "metadata": {},
   "outputs": [
    {
     "data": {
      "text/html": [
       "<div>\n",
       "<style scoped>\n",
       "    .dataframe tbody tr th:only-of-type {\n",
       "        vertical-align: middle;\n",
       "    }\n",
       "\n",
       "    .dataframe tbody tr th {\n",
       "        vertical-align: top;\n",
       "    }\n",
       "\n",
       "    .dataframe thead th {\n",
       "        text-align: right;\n",
       "    }\n",
       "</style>\n",
       "<table border=\"1\" class=\"dataframe\">\n",
       "  <thead>\n",
       "    <tr style=\"text-align: right;\">\n",
       "      <th></th>\n",
       "      <th>CV MSE</th>\n",
       "    </tr>\n",
       "    <tr>\n",
       "      <th>Model</th>\n",
       "      <th></th>\n",
       "    </tr>\n",
       "  </thead>\n",
       "  <tbody>\n",
       "    <tr>\n",
       "      <td>Polynomial Regression</td>\n",
       "      <td>0.879979</td>\n",
       "    </tr>\n",
       "    <tr>\n",
       "      <td>KNN Regressor</td>\n",
       "      <td>0.788908</td>\n",
       "    </tr>\n",
       "  </tbody>\n",
       "</table>\n",
       "</div>"
      ],
      "text/plain": [
       "                         CV MSE\n",
       "Model                          \n",
       "Polynomial Regression  0.879979\n",
       "KNN Regressor          0.788908"
      ]
     },
     "execution_count": 31,
     "metadata": {},
     "output_type": "execute_result"
    }
   ],
   "source": [
    "# Make the results pretty\n",
    "\n",
    "data = [\n",
    "    {\"Model\": \"Polynomial Regression\", \"CV MSE\": poly_mean},\n",
    "    {\"Model\": \"KNN Regressor\", \"CV MSE\": knn_mean}\n",
    "]\n",
    "\n",
    "results = pd.DataFrame(data)\n",
    "results = results.set_index(\"Model\")\n",
    "results"
   ]
  },
  {
   "cell_type": "markdown",
   "metadata": {},
   "source": [
    "## Optional: Manual K-Fold Cross Validation\n",
    "\n",
    "The following code demonstrates what is happening when we use the cross_val_score function"
   ]
  },
  {
   "cell_type": "code",
   "execution_count": 20,
   "metadata": {},
   "outputs": [
    {
     "name": "stdout",
     "output_type": "stream",
     "text": [
      "Best value of k: 2\n"
     ]
    }
   ],
   "source": [
    "# Manual K-Folds\n",
    "from sklearn.neighbors import KNeighborsRegressor\n",
    "from sklearn.model_selection import cross_val_score\n",
    "\n",
    "cv_scores = []\n",
    "\n",
    "k_values = np.arange(1,11)\n",
    "\n",
    "for k in k_values:\n",
    "    knn = KNeighborsRegressor(n_neighbors = k)\n",
    "    \n",
    "    kf = KFold(3)\n",
    "    \n",
    "    scores = []\n",
    "    \n",
    "    for train_indices, valid_indices in kf.split(x):\n",
    "        x_cvtrain = x_train[train_indices]\n",
    "        x_cvvalid = x_train[valid_indices]\n",
    "        \n",
    "        y_cvtrain = y_train[train_indices]\n",
    "        y_cvvalid = y_train[valid_indices]\n",
    "        \n",
    "        knn.fit(x_cvtrain.reshape(-1,1), y_cvtrain)\n",
    "        \n",
    "        y_cvpred = knn.predict(x_cvvalid.reshape(-1,1))\n",
    "        \n",
    "        error = -(mean_squared_error(y_cvvalid, y_cvpred))\n",
    "        \n",
    "        scores.append(error)\n",
    "        \n",
    "    # Get the mean of the scores from the 3 folds\n",
    "    cv_score = np.mean(scores)\n",
    "    \n",
    "    cv_scores.append(cv_score)\n",
    "    \n",
    "print(\"Best value of k: {0}\".format(k_values[np.argmax(cv_scores)]))"
   ]
  }
 ],
 "metadata": {
  "kernelspec": {
   "display_name": "Python 3",
   "language": "python",
   "name": "python3"
  },
  "language_info": {
   "codemirror_mode": {
    "name": "ipython",
    "version": 3
   },
   "file_extension": ".py",
   "mimetype": "text/x-python",
   "name": "python",
   "nbconvert_exporter": "python",
   "pygments_lexer": "ipython3",
   "version": "3.6.8"
  }
 },
 "nbformat": 4,
 "nbformat_minor": 2
}
