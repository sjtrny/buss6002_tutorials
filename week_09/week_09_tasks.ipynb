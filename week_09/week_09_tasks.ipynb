{
 "cells": [
  {
   "cell_type": "markdown",
   "metadata": {},
   "source": [
    "<center><h1>BUSS6002 - Data Science in Business</h1></center>\n",
    "\n",
    "# Tutorial 9 Tasks\n",
    "\n",
    "## Task 1\n",
    "\n",
    "Using the \"default.csv\" dataset:\n",
    "\n",
    "1. Split the data into train and test sets using a 70-30 split\n",
    "2. Train an unoptimised multivariate logistic regression model on the training set\n",
    "    1. Call this model \"Model 1\" \n",
    "3. Train an optimised second logistic regression model\n",
    "    1. Call this model \"Model 2\"\n",
    "    2. Use cross validation to optimise the following parameters:\n",
    "        1. C\n",
    "        2. penalty\n",
    "        2. fit_intercept\n",
    "        3. class_weight\n",
    "    3. Provide a written explanation for each of these parameters\n",
    "    4. Print out the optimal parameter values\n",
    "4. Use cross validation on the training set to compare the performance of Model 1 and Model 2\n",
    "5. Using the best model, calculate the performance on the test set (i.e. estimate out of sample error)"
   ]
  },
  {
   "cell_type": "code",
   "execution_count": null,
   "metadata": {},
   "outputs": [],
   "source": []
  }
 ],
 "metadata": {
  "kernelspec": {
   "display_name": "Python 3",
   "language": "python",
   "name": "python3"
  },
  "language_info": {
   "codemirror_mode": {
    "name": "ipython",
    "version": 3
   },
   "file_extension": ".py",
   "mimetype": "text/x-python",
   "name": "python",
   "nbconvert_exporter": "python",
   "pygments_lexer": "ipython3",
   "version": "3.6.8"
  }
 },
 "nbformat": 4,
 "nbformat_minor": 2
}
