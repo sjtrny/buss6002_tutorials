{
 "cells": [
  {
   "cell_type": "markdown",
   "metadata": {},
   "source": [
    "<center><h1>BUSS6002 - Data Science in Business</h1></center>\n",
    "\n",
    "# Tutorial 12 Tasks\n",
    "\n",
    "## Task 1: Clustering\n",
    "\n",
    "Using the DirectMarketing dataset cluster the customers into market segments\n",
    "- Use k-means\n",
    "- Search for the optimal number of segments\n",
    "- Summarise your observations about each market segment using both visualisation and written answer\n",
    "\n",
    "## Task 2: PCA\n",
    "\n",
    "On the airline dataset build a logistic regression classifier to predict whether flights will be delayed by $\\geq 20$ minutes.\n",
    "\n",
    "This dataset has a lot of features. Therefore we would like to use dimensionality reduction to bring the number of features under control and reduce the training time.\n",
    "\n",
    "- Pre-process the data\n",
    "    - Remove irrelevant features\n",
    "    - Remove categorical variables\n",
    "    - Remove null values\n",
    "- Perform PCA on the data\n",
    "- Find the number of components that explain 85% of the variance\n",
    "- Build a logistic regression model using the PCA transformed features\n",
    "- Evaluate classification accuracy against using the original features\n",
    "\n",
    "## Task 3: Homework\n",
    "\n",
    "Find the 10 most popular products for each customer segment and the price of these products.\n",
    "\n",
    "For each customer the last 10 products they they purchased has been recorded in the \"last_purchases.csv\" file. The prices for each product are listed in the \"product_prices.csv\" file. "
   ]
  },
  {
   "cell_type": "code",
   "execution_count": null,
   "metadata": {
    "collapsed": true
   },
   "outputs": [],
   "source": []
  }
 ],
 "metadata": {
  "kernelspec": {
   "display_name": "Python 3",
   "language": "python",
   "name": "python3"
  },
  "language_info": {
   "codemirror_mode": {
    "name": "ipython",
    "version": 3
   },
   "file_extension": ".py",
   "mimetype": "text/x-python",
   "name": "python",
   "nbconvert_exporter": "python",
   "pygments_lexer": "ipython3",
   "version": "3.6.8"
  }
 },
 "nbformat": 4,
 "nbformat_minor": 2
}
