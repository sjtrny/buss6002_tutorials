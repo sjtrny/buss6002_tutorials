{
 "cells": [
  {
   "cell_type": "markdown",
   "metadata": {},
   "source": [
    "<center><h1>BUSS6002 - Data Science in Business</h1></center>\n",
    "\n",
    "# Tutorial 10 Tasks\n",
    "\n",
    "## Task 1: Who Tweeted It? Trump vs Obama\n",
    "\n",
    "Train a logistic regression classifier to predict whether a tweet belongs to Trump or Obama.\n",
    "- Use the two files \"BarackObama.csv\" and \"DonaldTrumpTweets.csv\"\n",
    "- Clean the tweet data to remove incompatible pieces of text like URLs, mentions and poor formatting\n",
    "- Transform the tweet data into a bag of words representation\n",
    "- Split into a train and test set\n",
    "- Train a logistic regression classifier\n",
    "- Quantify performance \n",
    "\n",
    "Optional further steps:\n",
    "1. Optimise your logisitic regression classifier using cross validation\n",
    "2. Try and compare other classifiers using cross validation\n",
    "\n",
    "*Data from https://www.kaggle.com/adhok93/president-obama/data*\n"
   ]
  },
  {
   "cell_type": "code",
   "execution_count": null,
   "metadata": {
    "collapsed": true
   },
   "outputs": [],
   "source": []
  }
 ],
 "metadata": {
  "kernelspec": {
   "display_name": "Python 3",
   "language": "python",
   "name": "python3"
  },
  "language_info": {
   "codemirror_mode": {
    "name": "ipython",
    "version": 3
   },
   "file_extension": ".py",
   "mimetype": "text/x-python",
   "name": "python",
   "nbconvert_exporter": "python",
   "pygments_lexer": "ipython3",
   "version": "3.6.8"
  }
 },
 "nbformat": 4,
 "nbformat_minor": 2
}
